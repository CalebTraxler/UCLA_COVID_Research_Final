{
  "nbformat": 4,
  "nbformat_minor": 0,
  "metadata": {
    "colab": {
      "provenance": []
    },
    "kernelspec": {
      "name": "python3",
      "display_name": "Python 3"
    },
    "language_info": {
      "name": "python"
    }
  },
  "cells": [
    {
      "cell_type": "markdown",
      "source": [
        "# Preprocessing the Data"
      ],
      "metadata": {
        "id": "Lx74MZAsBkJS"
      }
    },
    {
      "cell_type": "code",
      "execution_count": null,
      "metadata": {
        "id": "ALG4rribcJ0U"
      },
      "outputs": [],
      "source": [
        "import pandas as pd\n",
        "import numpy as np\n",
        "import matplotlib.pyplot as plt\n",
        "from numpy.lib.arraysetops import setxor1d\n",
        "from scipy.integrate import odeint"
      ]
    },
    {
      "cell_type": "code",
      "source": [
        "from google.colab import drive\n",
        "drive.mount('/content/drive')"
      ],
      "metadata": {
        "colab": {
          "base_uri": "https://localhost:8080/"
        },
        "id": "cAc6IX6LceTG",
        "outputId": "26bf82d8-1aa4-4dba-bf1b-140708c08d10"
      },
      "execution_count": null,
      "outputs": [
        {
          "output_type": "stream",
          "name": "stdout",
          "text": [
            "Mounted at /content/drive\n"
          ]
        }
      ]
    },
    {
      "cell_type": "code",
      "source": [
        "df = pd.read_csv('/content/drive/MyDrive/Math 142 Project/Datasets1/allData.csv', index_col='DateSpecCollect', parse_dates=True)"
      ],
      "metadata": {
        "id": "EU_NJgsdckqS"
      },
      "execution_count": null,
      "outputs": []
    },
    {
      "cell_type": "code",
      "source": [
        "df_deaths = pd.read_csv('/content/drive/MyDrive/Math 142 Project/Datasets1/covid_deaths.csv')"
      ],
      "metadata": {
        "id": "8st7jXFtK7zq"
      },
      "execution_count": null,
      "outputs": []
    },
    {
      "cell_type": "code",
      "source": [
        "df_deaths.loc[]"
      ],
      "metadata": {
        "colab": {
          "base_uri": "https://localhost:8080/",
          "height": 606
        },
        "id": "9HTlfFnWLFN7",
        "outputId": "6b36ba8f-f609-45e3-b30d-7b8e97773683"
      },
      "execution_count": null,
      "outputs": [
        {
          "output_type": "execute_result",
          "data": {
            "text/plain": [
              "      countyFIPS            County Name State  StateFIPS  2020-01-22  \\\n",
              "0              0  Statewide Unallocated    AL          1           0   \n",
              "1           1001        Autauga County     AL          1           0   \n",
              "2           1003        Baldwin County     AL          1           0   \n",
              "3           1005        Barbour County     AL          1           0   \n",
              "4           1007           Bibb County     AL          1           0   \n",
              "...          ...                    ...   ...        ...         ...   \n",
              "3188       56037     Sweetwater County     WY         56           0   \n",
              "3189       56039          Teton County     WY         56           0   \n",
              "3190       56041          Uinta County     WY         56           0   \n",
              "3191       56043       Washakie County     WY         56           0   \n",
              "3192       56045         Weston County     WY         56           0   \n",
              "\n",
              "      2020-01-23  2020-01-24  2020-01-25  2020-01-26  2020-01-27  ...  \\\n",
              "0              0           0           0           0           0  ...   \n",
              "1              0           0           0           0           0  ...   \n",
              "2              0           0           0           0           0  ...   \n",
              "3              0           0           0           0           0  ...   \n",
              "4              0           0           0           0           0  ...   \n",
              "...          ...         ...         ...         ...         ...  ...   \n",
              "3188           0           0           0           0           0  ...   \n",
              "3189           0           0           0           0           0  ...   \n",
              "3190           0           0           0           0           0  ...   \n",
              "3191           0           0           0           0           0  ...   \n",
              "3192           0           0           0           0           0  ...   \n",
              "\n",
              "      2023-05-04  2023-05-05  2023-05-06  2023-05-07  2023-05-08  2023-05-09  \\\n",
              "0              0           0           0           0           0           0   \n",
              "1            235         235         235         235         235         235   \n",
              "2            731         731         731         731         731         731   \n",
              "3            104         104         104         104         104         104   \n",
              "4            111         111         111         111         111         111   \n",
              "...          ...         ...         ...         ...         ...         ...   \n",
              "3188         139         139         139         139         139         139   \n",
              "3189          16          16          16          16          16          16   \n",
              "3190          43          43          43          43          43          43   \n",
              "3191          51          51          51          51          51          51   \n",
              "3192          24          24          24          24          24          24   \n",
              "\n",
              "      2023-05-10  2023-05-11  2023-05-12  2023-05-13  \n",
              "0              0           0           0           0  \n",
              "1            235         235         235         235  \n",
              "2            731         731         731         731  \n",
              "3            104         104         104         104  \n",
              "4            111         111         111         111  \n",
              "...          ...         ...         ...         ...  \n",
              "3188         139         139         139         139  \n",
              "3189          16          16          16          16  \n",
              "3190          43          43          43          43  \n",
              "3191          51          51          51          51  \n",
              "3192          24          24          24          24  \n",
              "\n",
              "[3193 rows x 1212 columns]"
            ],
            "text/html": [
              "\n",
              "  <div id=\"df-2b189877-c4b7-4d8f-9a9f-e0908a6ed999\">\n",
              "    <div class=\"colab-df-container\">\n",
              "      <div>\n",
              "<style scoped>\n",
              "    .dataframe tbody tr th:only-of-type {\n",
              "        vertical-align: middle;\n",
              "    }\n",
              "\n",
              "    .dataframe tbody tr th {\n",
              "        vertical-align: top;\n",
              "    }\n",
              "\n",
              "    .dataframe thead th {\n",
              "        text-align: right;\n",
              "    }\n",
              "</style>\n",
              "<table border=\"1\" class=\"dataframe\">\n",
              "  <thead>\n",
              "    <tr style=\"text-align: right;\">\n",
              "      <th></th>\n",
              "      <th>countyFIPS</th>\n",
              "      <th>County Name</th>\n",
              "      <th>State</th>\n",
              "      <th>StateFIPS</th>\n",
              "      <th>2020-01-22</th>\n",
              "      <th>2020-01-23</th>\n",
              "      <th>2020-01-24</th>\n",
              "      <th>2020-01-25</th>\n",
              "      <th>2020-01-26</th>\n",
              "      <th>2020-01-27</th>\n",
              "      <th>...</th>\n",
              "      <th>2023-05-04</th>\n",
              "      <th>2023-05-05</th>\n",
              "      <th>2023-05-06</th>\n",
              "      <th>2023-05-07</th>\n",
              "      <th>2023-05-08</th>\n",
              "      <th>2023-05-09</th>\n",
              "      <th>2023-05-10</th>\n",
              "      <th>2023-05-11</th>\n",
              "      <th>2023-05-12</th>\n",
              "      <th>2023-05-13</th>\n",
              "    </tr>\n",
              "  </thead>\n",
              "  <tbody>\n",
              "    <tr>\n",
              "      <th>0</th>\n",
              "      <td>0</td>\n",
              "      <td>Statewide Unallocated</td>\n",
              "      <td>AL</td>\n",
              "      <td>1</td>\n",
              "      <td>0</td>\n",
              "      <td>0</td>\n",
              "      <td>0</td>\n",
              "      <td>0</td>\n",
              "      <td>0</td>\n",
              "      <td>0</td>\n",
              "      <td>...</td>\n",
              "      <td>0</td>\n",
              "      <td>0</td>\n",
              "      <td>0</td>\n",
              "      <td>0</td>\n",
              "      <td>0</td>\n",
              "      <td>0</td>\n",
              "      <td>0</td>\n",
              "      <td>0</td>\n",
              "      <td>0</td>\n",
              "      <td>0</td>\n",
              "    </tr>\n",
              "    <tr>\n",
              "      <th>1</th>\n",
              "      <td>1001</td>\n",
              "      <td>Autauga County</td>\n",
              "      <td>AL</td>\n",
              "      <td>1</td>\n",
              "      <td>0</td>\n",
              "      <td>0</td>\n",
              "      <td>0</td>\n",
              "      <td>0</td>\n",
              "      <td>0</td>\n",
              "      <td>0</td>\n",
              "      <td>...</td>\n",
              "      <td>235</td>\n",
              "      <td>235</td>\n",
              "      <td>235</td>\n",
              "      <td>235</td>\n",
              "      <td>235</td>\n",
              "      <td>235</td>\n",
              "      <td>235</td>\n",
              "      <td>235</td>\n",
              "      <td>235</td>\n",
              "      <td>235</td>\n",
              "    </tr>\n",
              "    <tr>\n",
              "      <th>2</th>\n",
              "      <td>1003</td>\n",
              "      <td>Baldwin County</td>\n",
              "      <td>AL</td>\n",
              "      <td>1</td>\n",
              "      <td>0</td>\n",
              "      <td>0</td>\n",
              "      <td>0</td>\n",
              "      <td>0</td>\n",
              "      <td>0</td>\n",
              "      <td>0</td>\n",
              "      <td>...</td>\n",
              "      <td>731</td>\n",
              "      <td>731</td>\n",
              "      <td>731</td>\n",
              "      <td>731</td>\n",
              "      <td>731</td>\n",
              "      <td>731</td>\n",
              "      <td>731</td>\n",
              "      <td>731</td>\n",
              "      <td>731</td>\n",
              "      <td>731</td>\n",
              "    </tr>\n",
              "    <tr>\n",
              "      <th>3</th>\n",
              "      <td>1005</td>\n",
              "      <td>Barbour County</td>\n",
              "      <td>AL</td>\n",
              "      <td>1</td>\n",
              "      <td>0</td>\n",
              "      <td>0</td>\n",
              "      <td>0</td>\n",
              "      <td>0</td>\n",
              "      <td>0</td>\n",
              "      <td>0</td>\n",
              "      <td>...</td>\n",
              "      <td>104</td>\n",
              "      <td>104</td>\n",
              "      <td>104</td>\n",
              "      <td>104</td>\n",
              "      <td>104</td>\n",
              "      <td>104</td>\n",
              "      <td>104</td>\n",
              "      <td>104</td>\n",
              "      <td>104</td>\n",
              "      <td>104</td>\n",
              "    </tr>\n",
              "    <tr>\n",
              "      <th>4</th>\n",
              "      <td>1007</td>\n",
              "      <td>Bibb County</td>\n",
              "      <td>AL</td>\n",
              "      <td>1</td>\n",
              "      <td>0</td>\n",
              "      <td>0</td>\n",
              "      <td>0</td>\n",
              "      <td>0</td>\n",
              "      <td>0</td>\n",
              "      <td>0</td>\n",
              "      <td>...</td>\n",
              "      <td>111</td>\n",
              "      <td>111</td>\n",
              "      <td>111</td>\n",
              "      <td>111</td>\n",
              "      <td>111</td>\n",
              "      <td>111</td>\n",
              "      <td>111</td>\n",
              "      <td>111</td>\n",
              "      <td>111</td>\n",
              "      <td>111</td>\n",
              "    </tr>\n",
              "    <tr>\n",
              "      <th>...</th>\n",
              "      <td>...</td>\n",
              "      <td>...</td>\n",
              "      <td>...</td>\n",
              "      <td>...</td>\n",
              "      <td>...</td>\n",
              "      <td>...</td>\n",
              "      <td>...</td>\n",
              "      <td>...</td>\n",
              "      <td>...</td>\n",
              "      <td>...</td>\n",
              "      <td>...</td>\n",
              "      <td>...</td>\n",
              "      <td>...</td>\n",
              "      <td>...</td>\n",
              "      <td>...</td>\n",
              "      <td>...</td>\n",
              "      <td>...</td>\n",
              "      <td>...</td>\n",
              "      <td>...</td>\n",
              "      <td>...</td>\n",
              "      <td>...</td>\n",
              "    </tr>\n",
              "    <tr>\n",
              "      <th>3188</th>\n",
              "      <td>56037</td>\n",
              "      <td>Sweetwater County</td>\n",
              "      <td>WY</td>\n",
              "      <td>56</td>\n",
              "      <td>0</td>\n",
              "      <td>0</td>\n",
              "      <td>0</td>\n",
              "      <td>0</td>\n",
              "      <td>0</td>\n",
              "      <td>0</td>\n",
              "      <td>...</td>\n",
              "      <td>139</td>\n",
              "      <td>139</td>\n",
              "      <td>139</td>\n",
              "      <td>139</td>\n",
              "      <td>139</td>\n",
              "      <td>139</td>\n",
              "      <td>139</td>\n",
              "      <td>139</td>\n",
              "      <td>139</td>\n",
              "      <td>139</td>\n",
              "    </tr>\n",
              "    <tr>\n",
              "      <th>3189</th>\n",
              "      <td>56039</td>\n",
              "      <td>Teton County</td>\n",
              "      <td>WY</td>\n",
              "      <td>56</td>\n",
              "      <td>0</td>\n",
              "      <td>0</td>\n",
              "      <td>0</td>\n",
              "      <td>0</td>\n",
              "      <td>0</td>\n",
              "      <td>0</td>\n",
              "      <td>...</td>\n",
              "      <td>16</td>\n",
              "      <td>16</td>\n",
              "      <td>16</td>\n",
              "      <td>16</td>\n",
              "      <td>16</td>\n",
              "      <td>16</td>\n",
              "      <td>16</td>\n",
              "      <td>16</td>\n",
              "      <td>16</td>\n",
              "      <td>16</td>\n",
              "    </tr>\n",
              "    <tr>\n",
              "      <th>3190</th>\n",
              "      <td>56041</td>\n",
              "      <td>Uinta County</td>\n",
              "      <td>WY</td>\n",
              "      <td>56</td>\n",
              "      <td>0</td>\n",
              "      <td>0</td>\n",
              "      <td>0</td>\n",
              "      <td>0</td>\n",
              "      <td>0</td>\n",
              "      <td>0</td>\n",
              "      <td>...</td>\n",
              "      <td>43</td>\n",
              "      <td>43</td>\n",
              "      <td>43</td>\n",
              "      <td>43</td>\n",
              "      <td>43</td>\n",
              "      <td>43</td>\n",
              "      <td>43</td>\n",
              "      <td>43</td>\n",
              "      <td>43</td>\n",
              "      <td>43</td>\n",
              "    </tr>\n",
              "    <tr>\n",
              "      <th>3191</th>\n",
              "      <td>56043</td>\n",
              "      <td>Washakie County</td>\n",
              "      <td>WY</td>\n",
              "      <td>56</td>\n",
              "      <td>0</td>\n",
              "      <td>0</td>\n",
              "      <td>0</td>\n",
              "      <td>0</td>\n",
              "      <td>0</td>\n",
              "      <td>0</td>\n",
              "      <td>...</td>\n",
              "      <td>51</td>\n",
              "      <td>51</td>\n",
              "      <td>51</td>\n",
              "      <td>51</td>\n",
              "      <td>51</td>\n",
              "      <td>51</td>\n",
              "      <td>51</td>\n",
              "      <td>51</td>\n",
              "      <td>51</td>\n",
              "      <td>51</td>\n",
              "    </tr>\n",
              "    <tr>\n",
              "      <th>3192</th>\n",
              "      <td>56045</td>\n",
              "      <td>Weston County</td>\n",
              "      <td>WY</td>\n",
              "      <td>56</td>\n",
              "      <td>0</td>\n",
              "      <td>0</td>\n",
              "      <td>0</td>\n",
              "      <td>0</td>\n",
              "      <td>0</td>\n",
              "      <td>0</td>\n",
              "      <td>...</td>\n",
              "      <td>24</td>\n",
              "      <td>24</td>\n",
              "      <td>24</td>\n",
              "      <td>24</td>\n",
              "      <td>24</td>\n",
              "      <td>24</td>\n",
              "      <td>24</td>\n",
              "      <td>24</td>\n",
              "      <td>24</td>\n",
              "      <td>24</td>\n",
              "    </tr>\n",
              "  </tbody>\n",
              "</table>\n",
              "<p>3193 rows × 1212 columns</p>\n",
              "</div>\n",
              "      <button class=\"colab-df-convert\" onclick=\"convertToInteractive('df-2b189877-c4b7-4d8f-9a9f-e0908a6ed999')\"\n",
              "              title=\"Convert this dataframe to an interactive table.\"\n",
              "              style=\"display:none;\">\n",
              "        \n",
              "  <svg xmlns=\"http://www.w3.org/2000/svg\" height=\"24px\"viewBox=\"0 0 24 24\"\n",
              "       width=\"24px\">\n",
              "    <path d=\"M0 0h24v24H0V0z\" fill=\"none\"/>\n",
              "    <path d=\"M18.56 5.44l.94 2.06.94-2.06 2.06-.94-2.06-.94-.94-2.06-.94 2.06-2.06.94zm-11 1L8.5 8.5l.94-2.06 2.06-.94-2.06-.94L8.5 2.5l-.94 2.06-2.06.94zm10 10l.94 2.06.94-2.06 2.06-.94-2.06-.94-.94-2.06-.94 2.06-2.06.94z\"/><path d=\"M17.41 7.96l-1.37-1.37c-.4-.4-.92-.59-1.43-.59-.52 0-1.04.2-1.43.59L10.3 9.45l-7.72 7.72c-.78.78-.78 2.05 0 2.83L4 21.41c.39.39.9.59 1.41.59.51 0 1.02-.2 1.41-.59l7.78-7.78 2.81-2.81c.8-.78.8-2.07 0-2.86zM5.41 20L4 18.59l7.72-7.72 1.47 1.35L5.41 20z\"/>\n",
              "  </svg>\n",
              "      </button>\n",
              "      \n",
              "  <style>\n",
              "    .colab-df-container {\n",
              "      display:flex;\n",
              "      flex-wrap:wrap;\n",
              "      gap: 12px;\n",
              "    }\n",
              "\n",
              "    .colab-df-convert {\n",
              "      background-color: #E8F0FE;\n",
              "      border: none;\n",
              "      border-radius: 50%;\n",
              "      cursor: pointer;\n",
              "      display: none;\n",
              "      fill: #1967D2;\n",
              "      height: 32px;\n",
              "      padding: 0 0 0 0;\n",
              "      width: 32px;\n",
              "    }\n",
              "\n",
              "    .colab-df-convert:hover {\n",
              "      background-color: #E2EBFA;\n",
              "      box-shadow: 0px 1px 2px rgba(60, 64, 67, 0.3), 0px 1px 3px 1px rgba(60, 64, 67, 0.15);\n",
              "      fill: #174EA6;\n",
              "    }\n",
              "\n",
              "    [theme=dark] .colab-df-convert {\n",
              "      background-color: #3B4455;\n",
              "      fill: #D2E3FC;\n",
              "    }\n",
              "\n",
              "    [theme=dark] .colab-df-convert:hover {\n",
              "      background-color: #434B5C;\n",
              "      box-shadow: 0px 1px 3px 1px rgba(0, 0, 0, 0.15);\n",
              "      filter: drop-shadow(0px 1px 2px rgba(0, 0, 0, 0.3));\n",
              "      fill: #FFFFFF;\n",
              "    }\n",
              "  </style>\n",
              "\n",
              "      <script>\n",
              "        const buttonEl =\n",
              "          document.querySelector('#df-2b189877-c4b7-4d8f-9a9f-e0908a6ed999 button.colab-df-convert');\n",
              "        buttonEl.style.display =\n",
              "          google.colab.kernel.accessAllowed ? 'block' : 'none';\n",
              "\n",
              "        async function convertToInteractive(key) {\n",
              "          const element = document.querySelector('#df-2b189877-c4b7-4d8f-9a9f-e0908a6ed999');\n",
              "          const dataTable =\n",
              "            await google.colab.kernel.invokeFunction('convertToInteractive',\n",
              "                                                     [key], {});\n",
              "          if (!dataTable) return;\n",
              "\n",
              "          const docLinkHtml = 'Like what you see? Visit the ' +\n",
              "            '<a target=\"_blank\" href=https://colab.research.google.com/notebooks/data_table.ipynb>data table notebook</a>'\n",
              "            + ' to learn more about interactive tables.';\n",
              "          element.innerHTML = '';\n",
              "          dataTable['output_type'] = 'display_data';\n",
              "          await google.colab.output.renderOutput(dataTable, element);\n",
              "          const docLink = document.createElement('div');\n",
              "          docLink.innerHTML = docLinkHtml;\n",
              "          element.appendChild(docLink);\n",
              "        }\n",
              "      </script>\n",
              "    </div>\n",
              "  </div>\n",
              "  "
            ]
          },
          "metadata": {},
          "execution_count": 29
        }
      ]
    },
    {
      "cell_type": "code",
      "source": [
        "def cumulative_list(name, reference, table):\n",
        "  size = table.shape[0]\n",
        "  columns = list(table.columns)\n",
        "  col_ind = columns.index(reference)\n",
        "  arr = []\n",
        "  for i in range(size):\n",
        "    toAdd = table.iloc[0:i+1, col_ind].sum() + 0.0\n",
        "    arr.append(toAdd)\n",
        "  table[name] = arr\n",
        "  return table"
      ],
      "metadata": {
        "id": "8sVUL2vNrKVK"
      },
      "execution_count": null,
      "outputs": []
    },
    {
      "cell_type": "code",
      "source": [
        "df_temp = df.sort_values(by='DateSpecCollect')\n",
        "df_temp.drop(columns=['Total.1', '528641'], axis=1, inplace=True)\n",
        "df_temp.rename(columns={'Total': 'Infected per day'}, inplace=True)\n",
        "df_temp['7-day Avg'] = df_temp['Infected per day'].rolling(window=7).mean()\n",
        "df_temp['28-day Avg'] = df_temp['Infected per day'].rolling(window=28).mean()\n",
        "cumulative_list(\"Total Infected for 7-day Avg\", \"7-day Avg\", df_temp)\n",
        "cumulative_list(\"Total Infected for 28-day Avg\", \"28-day Avg\", df_temp)\n",
        "cumulative_list(\"Total Infected\", \"Infected per day\", df_temp)\n",
        "df_new = df_temp.loc['2020-03-15':'2022-02-08', :].copy()\n",
        "df_new"
      ],
      "metadata": {
        "colab": {
          "base_uri": "https://localhost:8080/",
          "height": 455
        },
        "id": "NEqu1j-6hxEm",
        "outputId": "1bfe488d-826f-4c14-c6a8-7ffdded071f5"
      },
      "execution_count": null,
      "outputs": [
        {
          "output_type": "execute_result",
          "data": {
            "text/plain": [
              "                 Infected per day    7-day Avg   28-day Avg  \\\n",
              "DateSpecCollect                                               \n",
              "2020-03-15                     11     9.714286          NaN   \n",
              "2020-03-16                     34    14.428571          NaN   \n",
              "2020-03-17                     42    20.142857          NaN   \n",
              "2020-03-18                     32    24.000000          NaN   \n",
              "2020-03-19                     51    29.714286          NaN   \n",
              "...                           ...          ...          ...   \n",
              "2022-02-04                    735  1082.714286  3611.821429   \n",
              "2022-02-05                    251   967.428571  3456.571429   \n",
              "2022-02-06                    163   899.714286  3333.214286   \n",
              "2022-02-07                    182   694.428571  2993.500000   \n",
              "2022-02-08                      3   502.714286  2690.214286   \n",
              "\n",
              "                 Total Infected for 7-day Avg  Total Infected for 28-day Avg  \\\n",
              "DateSpecCollect                                                                \n",
              "2020-03-15                          37.571429                       0.000000   \n",
              "2020-03-16                          52.000000                       0.000000   \n",
              "2020-03-17                          72.142857                       0.000000   \n",
              "2020-03-18                          96.142857                       0.000000   \n",
              "2020-03-19                         125.857143                       0.000000   \n",
              "...                                       ...                            ...   \n",
              "2022-02-04                      524883.142857                  495213.321429   \n",
              "2022-02-05                      525850.571429                  498669.892857   \n",
              "2022-02-06                      526750.285714                  502003.107143   \n",
              "2022-02-07                      527444.714286                  504996.607143   \n",
              "2022-02-08                      527947.428571                  507686.821429   \n",
              "\n",
              "                 Total Infected  \n",
              "DateSpecCollect                  \n",
              "2020-03-15                 87.0  \n",
              "2020-03-16                121.0  \n",
              "2020-03-17                163.0  \n",
              "2020-03-18                195.0  \n",
              "2020-03-19                246.0  \n",
              "...                         ...  \n",
              "2022-02-04             528042.0  \n",
              "2022-02-05             528293.0  \n",
              "2022-02-06             528456.0  \n",
              "2022-02-07             528638.0  \n",
              "2022-02-08             528641.0  \n",
              "\n",
              "[696 rows x 6 columns]"
            ],
            "text/html": [
              "\n",
              "  <div id=\"df-f23013b8-a7bd-4e05-aa41-449149df8659\">\n",
              "    <div class=\"colab-df-container\">\n",
              "      <div>\n",
              "<style scoped>\n",
              "    .dataframe tbody tr th:only-of-type {\n",
              "        vertical-align: middle;\n",
              "    }\n",
              "\n",
              "    .dataframe tbody tr th {\n",
              "        vertical-align: top;\n",
              "    }\n",
              "\n",
              "    .dataframe thead th {\n",
              "        text-align: right;\n",
              "    }\n",
              "</style>\n",
              "<table border=\"1\" class=\"dataframe\">\n",
              "  <thead>\n",
              "    <tr style=\"text-align: right;\">\n",
              "      <th></th>\n",
              "      <th>Infected per day</th>\n",
              "      <th>7-day Avg</th>\n",
              "      <th>28-day Avg</th>\n",
              "      <th>Total Infected for 7-day Avg</th>\n",
              "      <th>Total Infected for 28-day Avg</th>\n",
              "      <th>Total Infected</th>\n",
              "    </tr>\n",
              "    <tr>\n",
              "      <th>DateSpecCollect</th>\n",
              "      <th></th>\n",
              "      <th></th>\n",
              "      <th></th>\n",
              "      <th></th>\n",
              "      <th></th>\n",
              "      <th></th>\n",
              "    </tr>\n",
              "  </thead>\n",
              "  <tbody>\n",
              "    <tr>\n",
              "      <th>2020-03-15</th>\n",
              "      <td>11</td>\n",
              "      <td>9.714286</td>\n",
              "      <td>NaN</td>\n",
              "      <td>37.571429</td>\n",
              "      <td>0.000000</td>\n",
              "      <td>87.0</td>\n",
              "    </tr>\n",
              "    <tr>\n",
              "      <th>2020-03-16</th>\n",
              "      <td>34</td>\n",
              "      <td>14.428571</td>\n",
              "      <td>NaN</td>\n",
              "      <td>52.000000</td>\n",
              "      <td>0.000000</td>\n",
              "      <td>121.0</td>\n",
              "    </tr>\n",
              "    <tr>\n",
              "      <th>2020-03-17</th>\n",
              "      <td>42</td>\n",
              "      <td>20.142857</td>\n",
              "      <td>NaN</td>\n",
              "      <td>72.142857</td>\n",
              "      <td>0.000000</td>\n",
              "      <td>163.0</td>\n",
              "    </tr>\n",
              "    <tr>\n",
              "      <th>2020-03-18</th>\n",
              "      <td>32</td>\n",
              "      <td>24.000000</td>\n",
              "      <td>NaN</td>\n",
              "      <td>96.142857</td>\n",
              "      <td>0.000000</td>\n",
              "      <td>195.0</td>\n",
              "    </tr>\n",
              "    <tr>\n",
              "      <th>2020-03-19</th>\n",
              "      <td>51</td>\n",
              "      <td>29.714286</td>\n",
              "      <td>NaN</td>\n",
              "      <td>125.857143</td>\n",
              "      <td>0.000000</td>\n",
              "      <td>246.0</td>\n",
              "    </tr>\n",
              "    <tr>\n",
              "      <th>...</th>\n",
              "      <td>...</td>\n",
              "      <td>...</td>\n",
              "      <td>...</td>\n",
              "      <td>...</td>\n",
              "      <td>...</td>\n",
              "      <td>...</td>\n",
              "    </tr>\n",
              "    <tr>\n",
              "      <th>2022-02-04</th>\n",
              "      <td>735</td>\n",
              "      <td>1082.714286</td>\n",
              "      <td>3611.821429</td>\n",
              "      <td>524883.142857</td>\n",
              "      <td>495213.321429</td>\n",
              "      <td>528042.0</td>\n",
              "    </tr>\n",
              "    <tr>\n",
              "      <th>2022-02-05</th>\n",
              "      <td>251</td>\n",
              "      <td>967.428571</td>\n",
              "      <td>3456.571429</td>\n",
              "      <td>525850.571429</td>\n",
              "      <td>498669.892857</td>\n",
              "      <td>528293.0</td>\n",
              "    </tr>\n",
              "    <tr>\n",
              "      <th>2022-02-06</th>\n",
              "      <td>163</td>\n",
              "      <td>899.714286</td>\n",
              "      <td>3333.214286</td>\n",
              "      <td>526750.285714</td>\n",
              "      <td>502003.107143</td>\n",
              "      <td>528456.0</td>\n",
              "    </tr>\n",
              "    <tr>\n",
              "      <th>2022-02-07</th>\n",
              "      <td>182</td>\n",
              "      <td>694.428571</td>\n",
              "      <td>2993.500000</td>\n",
              "      <td>527444.714286</td>\n",
              "      <td>504996.607143</td>\n",
              "      <td>528638.0</td>\n",
              "    </tr>\n",
              "    <tr>\n",
              "      <th>2022-02-08</th>\n",
              "      <td>3</td>\n",
              "      <td>502.714286</td>\n",
              "      <td>2690.214286</td>\n",
              "      <td>527947.428571</td>\n",
              "      <td>507686.821429</td>\n",
              "      <td>528641.0</td>\n",
              "    </tr>\n",
              "  </tbody>\n",
              "</table>\n",
              "<p>696 rows × 6 columns</p>\n",
              "</div>\n",
              "      <button class=\"colab-df-convert\" onclick=\"convertToInteractive('df-f23013b8-a7bd-4e05-aa41-449149df8659')\"\n",
              "              title=\"Convert this dataframe to an interactive table.\"\n",
              "              style=\"display:none;\">\n",
              "        \n",
              "  <svg xmlns=\"http://www.w3.org/2000/svg\" height=\"24px\"viewBox=\"0 0 24 24\"\n",
              "       width=\"24px\">\n",
              "    <path d=\"M0 0h24v24H0V0z\" fill=\"none\"/>\n",
              "    <path d=\"M18.56 5.44l.94 2.06.94-2.06 2.06-.94-2.06-.94-.94-2.06-.94 2.06-2.06.94zm-11 1L8.5 8.5l.94-2.06 2.06-.94-2.06-.94L8.5 2.5l-.94 2.06-2.06.94zm10 10l.94 2.06.94-2.06 2.06-.94-2.06-.94-.94-2.06-.94 2.06-2.06.94z\"/><path d=\"M17.41 7.96l-1.37-1.37c-.4-.4-.92-.59-1.43-.59-.52 0-1.04.2-1.43.59L10.3 9.45l-7.72 7.72c-.78.78-.78 2.05 0 2.83L4 21.41c.39.39.9.59 1.41.59.51 0 1.02-.2 1.41-.59l7.78-7.78 2.81-2.81c.8-.78.8-2.07 0-2.86zM5.41 20L4 18.59l7.72-7.72 1.47 1.35L5.41 20z\"/>\n",
              "  </svg>\n",
              "      </button>\n",
              "      \n",
              "  <style>\n",
              "    .colab-df-container {\n",
              "      display:flex;\n",
              "      flex-wrap:wrap;\n",
              "      gap: 12px;\n",
              "    }\n",
              "\n",
              "    .colab-df-convert {\n",
              "      background-color: #E8F0FE;\n",
              "      border: none;\n",
              "      border-radius: 50%;\n",
              "      cursor: pointer;\n",
              "      display: none;\n",
              "      fill: #1967D2;\n",
              "      height: 32px;\n",
              "      padding: 0 0 0 0;\n",
              "      width: 32px;\n",
              "    }\n",
              "\n",
              "    .colab-df-convert:hover {\n",
              "      background-color: #E2EBFA;\n",
              "      box-shadow: 0px 1px 2px rgba(60, 64, 67, 0.3), 0px 1px 3px 1px rgba(60, 64, 67, 0.15);\n",
              "      fill: #174EA6;\n",
              "    }\n",
              "\n",
              "    [theme=dark] .colab-df-convert {\n",
              "      background-color: #3B4455;\n",
              "      fill: #D2E3FC;\n",
              "    }\n",
              "\n",
              "    [theme=dark] .colab-df-convert:hover {\n",
              "      background-color: #434B5C;\n",
              "      box-shadow: 0px 1px 3px 1px rgba(0, 0, 0, 0.15);\n",
              "      filter: drop-shadow(0px 1px 2px rgba(0, 0, 0, 0.3));\n",
              "      fill: #FFFFFF;\n",
              "    }\n",
              "  </style>\n",
              "\n",
              "      <script>\n",
              "        const buttonEl =\n",
              "          document.querySelector('#df-f23013b8-a7bd-4e05-aa41-449149df8659 button.colab-df-convert');\n",
              "        buttonEl.style.display =\n",
              "          google.colab.kernel.accessAllowed ? 'block' : 'none';\n",
              "\n",
              "        async function convertToInteractive(key) {\n",
              "          const element = document.querySelector('#df-f23013b8-a7bd-4e05-aa41-449149df8659');\n",
              "          const dataTable =\n",
              "            await google.colab.kernel.invokeFunction('convertToInteractive',\n",
              "                                                     [key], {});\n",
              "          if (!dataTable) return;\n",
              "\n",
              "          const docLinkHtml = 'Like what you see? Visit the ' +\n",
              "            '<a target=\"_blank\" href=https://colab.research.google.com/notebooks/data_table.ipynb>data table notebook</a>'\n",
              "            + ' to learn more about interactive tables.';\n",
              "          element.innerHTML = '';\n",
              "          dataTable['output_type'] = 'display_data';\n",
              "          await google.colab.output.renderOutput(dataTable, element);\n",
              "          const docLink = document.createElement('div');\n",
              "          docLink.innerHTML = docLinkHtml;\n",
              "          element.appendChild(docLink);\n",
              "        }\n",
              "      </script>\n",
              "    </div>\n",
              "  </div>\n",
              "  "
            ]
          },
          "metadata": {},
          "execution_count": 9
        }
      ]
    },
    {
      "cell_type": "code",
      "source": [
        "df_new.to_csv('/content/drive/MyDrive/Math 142 Project/Datasets1/allData1.csv')"
      ],
      "metadata": {
        "id": "_fsCIb8S_Syx"
      },
      "execution_count": null,
      "outputs": []
    },
    {
      "cell_type": "code",
      "source": [
        "df_wave1 = df_new.loc['2020-04-01':'2020-09-30', :].copy()\n",
        "df_wave2 = df_new.loc['2020-10-01': '2021-03-31', :].copy()\n",
        "df_wave3 = df_new.loc['2021-07-01': '2021-10-31', :].copy()\n",
        "\n",
        "df_wave1.to_csv('/content/drive/MyDrive/Math 142 Project/Datasets1/wave1Averaged_Nameer.csv')\n",
        "df_wave2.to_csv('/content/drive/MyDrive/Math 142 Project/Datasets1/wave2Averaged_Nameer.csv')\n",
        "df_wave3.to_csv('/content/drive/MyDrive/Math 142 Project/Datasets1/wave3Averaged_Nameer.csv')"
      ],
      "metadata": {
        "id": "Lfgt53gDnAR0"
      },
      "execution_count": null,
      "outputs": []
    },
    {
      "cell_type": "markdown",
      "source": [
        "# Plotting the Data"
      ],
      "metadata": {
        "id": "CbT_LD18B4n0"
      }
    },
    {
      "cell_type": "code",
      "source": [
        "def odes(x, t, a_param, k_param):\n",
        "  #constants\n",
        "  # a = 1/infection_rate\n",
        "  # k = 1/infectious_period\n",
        "  a = a_param\n",
        "  k = k_param\n",
        "\n",
        "  #assign each ODE to a vector element\n",
        "  S = x[0]\n",
        "  I = x[1]\n",
        "  R = x[2]\n",
        "\n",
        "  #define each ODE\n",
        "  dSdt = -a*S*I\n",
        "  dIdt = a*S*I - k*I\n",
        "  dRdt = k*I\n",
        "\n",
        "  return [dSdt, dIdt, dRdt]"
      ],
      "metadata": {
        "id": "ikNirwpuBg52"
      },
      "execution_count": null,
      "outputs": []
    },
    {
      "cell_type": "code",
      "source": [
        "test_a = 1/2.5\n",
        "test_k = 1/3\n",
        "\n",
        "print(test_a/test_k)"
      ],
      "metadata": {
        "id": "OO-BkcoO8E17",
        "colab": {
          "base_uri": "https://localhost:8080/"
        },
        "outputId": "2fdf2526-220b-4a61-b036-05812c0c3727"
      },
      "execution_count": null,
      "outputs": [
        {
          "output_type": "stream",
          "name": "stdout",
          "text": [
            "1.2000000000000002\n"
          ]
        }
      ]
    },
    {
      "cell_type": "code",
      "source": [
        "from uuid import NAMESPACE_OID\n",
        "\n",
        "#initial conditions\n",
        "N = 3186989\n",
        "I0 = 1/N\n",
        "S0 = 1. - I0\n",
        "R0 = 0.\n",
        "x0 = [S0, I0, R0]\n",
        "\n",
        "def wave1(a, k):\n",
        "  #declare a time vector (time window)\n",
        "  size1 = df_wave1.shape[0]\n",
        "  t = np.linspace(0, size1-1, size1)\n",
        "  #x = odeint(odes,x0,t, args=((1/2.5)+(0.01/2), (1/3)-0.01))\n",
        "\n",
        "  #Experimental\n",
        "  x = odeint(odes,x0,t, args=(a, k))\n",
        "\n",
        "  S = x[:,0]\n",
        "  I = x[:,1]\n",
        "  R = x[:,2]\n",
        "\n",
        "  y1_a = df_wave1['Total Infected for 7-day Avg'].to_numpy().copy()\n",
        "  y1_a /= N\n",
        "  y1_b = df_wave1['Total Infected for 28-day Avg'].to_numpy().copy()\n",
        "  y1_b /= N\n",
        "  y1_c = df_wave1['Total Infected'].to_numpy().copy()\n",
        "  y1_c.astype(float)\n",
        "  y1_c /= N\n",
        "  y1 = np.array([y1_a, y1_b, y1_c])\n",
        "\n",
        "  print(\"Max Infected peak: \", max(I))\n",
        "  fig1 = plt.figure(1); fig1.clf()\n",
        "  #plt.plot(t, S, 'g', lw=3, label='Suseptible')\n",
        "  plt.plot(t, I, 'r', lw=3, label='Infective')\n",
        "  #plt.plot(t, R, 'b', lw=3, label='Removed')\n",
        "  # plt.plot(t, y1[0], 'y', lw=3, label='Total Infected for 7-day Avg')\n",
        "  # plt.plot(t, y1[1], 'b', lw=3, label='Total Infected for 28-day Avg')\n",
        "  # plt.plot(t, y2[2], 'black', lw=3, label='Total Infected')\n",
        "  plt.scatter(t, y1[0], s=5, facecolors='none', edgecolors='y', label='Total Infected for 7-day Avg')\n",
        "  plt.scatter(t, y1[1], s=5, facecolors='none', edgecolors='b', label='Total Infected for 28-day Avg')\n",
        "  plt.scatter(t, y1[2], s=5, facecolors='none', edgecolors='black', label='Total Infected')\n",
        "  plt.axis([0, 125, 0, 0.015])\n",
        "\n",
        "  fig1.legend()\n",
        "  plt.xlabel('Time (days)')\n",
        "  plt.ylabel('Population')\n",
        "\n",
        "  return S, I, R\n",
        "\n",
        "# const = 0.41\n",
        "# a = 0.5 * const\n",
        "# k = (1/4) * const\n",
        "\n",
        "const = 0.41\n",
        "a = 0.5 * const\n",
        "k = (1/4) * const\n",
        "S, I, R = wave1(a, k)\n",
        "R0 = a/k\n",
        "print(\"a = \", a)\n",
        "print(\"k = \", k)\n",
        "print(\"R0 = \", R0)\n",
        "# print(\"S(120) = \", S[120])\n",
        "# print(\"I(120) = \", I[120])"
      ],
      "metadata": {
        "colab": {
          "base_uri": "https://localhost:8080/",
          "height": 379
        },
        "id": "tUvzGoJhCGF5",
        "outputId": "8c100aaa-d6f1-4289-f2cb-e902067b2ad4"
      },
      "execution_count": null,
      "outputs": [
        {
          "output_type": "stream",
          "name": "stdout",
          "text": [
            "Max Infected peak:  0.15338844340247956\n",
            "a =  0.205\n",
            "k =  0.1025\n",
            "R0 =  2.0\n"
          ]
        },
        {
          "output_type": "display_data",
          "data": {
            "image/png": "[encoded data removed]",
            "text/plain": [
              "<Figure size 432x288 with 1 Axes>"
            ]
          },
          "metadata": {
            "needs_background": "light"
          }
        }
      ]
    },
    {
      "cell_type": "code",
      "source": [
        "size = df_new.shape[0]\n",
        "t = np.linspace(0, size-1, size)\n",
        "something = df_new['Infected per day'].to_numpy().copy()\n",
        "something.astype(float)\n",
        "something / N\n",
        "a = 1/8\n",
        "k = 1/7\n",
        "x = odeint(odes,x0,t, args=(a, k))\n",
        "\n",
        "S = x[:,0]\n",
        "I = x[:,1]\n",
        "R = x[:,2]\n",
        "\n",
        "plt.plot(t, something, 'y', lw=3, label='Daily new cases')\n",
        "plt.plot(t, S, 'g', lw=3, label='Suseptible')\n",
        "plt.plot(t, I, 'r', lw=3, label='Infective')\n",
        "plt.plot(t, R, 'b', lw=3, label='Removed')"
      ],
      "metadata": {
        "colab": {
          "base_uri": "https://localhost:8080/",
          "height": 283
        },
        "id": "r8ZBvyQ29DX4",
        "outputId": "dc4d0281-2567-48de-9b47-d1c24b23128e"
      },
      "execution_count": null,
      "outputs": [
        {
          "output_type": "execute_result",
          "data": {
            "text/plain": [
              "[<matplotlib.lines.Line2D at 0x7f898b4931d0>]"
            ]
          },
          "metadata": {},
          "execution_count": 32
        },
        {
          "output_type": "display_data",
          "data": {
            "image/png": "[encoded data removed]",
            "text/plain": [
              "<Figure size 432x288 with 1 Axes>"
            ]
          },
          "metadata": {
            "needs_background": "light"
          }
        }
      ]
    },
    {
      "cell_type": "code",
      "source": [
        "something.astype(float)\n",
        "something / N"
      ],
      "metadata": {
        "colab": {
          "base_uri": "https://localhost:8080/"
        },
        "id": "vPRes1_d-9fn",
        "outputId": "4b1aa3d8-dff2-42b2-8cce-1a0dc7d49512"
      },
      "execution_count": null,
      "outputs": [
        {
          "output_type": "execute_result",
          "data": {
            "text/plain": [
              "array([3.45153372e-06, 1.06683770e-05, 1.31785833e-05, 1.00408254e-05,\n",
              "       1.60025654e-05, 1.69438928e-05, 7.21684323e-06, 8.15817061e-06,\n",
              "       1.91403234e-05, 2.29056329e-05, 1.88265476e-05, 1.72576686e-05,\n",
              "       1.78852202e-05, 1.56887896e-05, 1.09821527e-05, 1.85127718e-05,\n",
              "       2.44745118e-05, 2.29056329e-05, 1.60025654e-05, 2.00816507e-05,\n",
              "       9.09949799e-06, 1.00408254e-05, 1.66301170e-05, 1.85127718e-05,\n",
              "       1.75714444e-05, 1.44336865e-05, 1.44336865e-05, 7.84439482e-06,\n",
              "       5.96174006e-06, 1.78852202e-05, 2.19643055e-05, 3.01224761e-05,\n",
              "       2.25918571e-05, 2.25918571e-05, 1.25510317e-05, 7.84439482e-06,\n",
              "       2.19643055e-05, 2.19643055e-05, 3.85944225e-05, 2.54158392e-05,\n",
              "       2.76122698e-05, 1.81989960e-05, 1.47474623e-05, 4.04770773e-05,\n",
              "       5.17730058e-05, 3.95357499e-05, 3.85944225e-05, 3.38877856e-05,\n",
              "       1.69438928e-05, 1.91403234e-05, 5.49107637e-05, 3.60842162e-05,\n",
              "       5.67934185e-05, 5.14592300e-05, 6.02449522e-05, 2.98087003e-05,\n",
              "       1.31785833e-05, 4.39286110e-05, 3.92219741e-05, 4.83214721e-05,\n",
              "       4.26735078e-05, 5.45969879e-05, 3.57704404e-05, 1.63163412e-05,\n",
              "       6.21276070e-05, 4.73801447e-05, 5.96174006e-05, 5.02041268e-05,\n",
              "       5.20867816e-05, 3.13775793e-05, 2.38469602e-05, 2.13367539e-05,\n",
              "       7.81301724e-05, 6.74617954e-05, 6.90306744e-05, 5.20867816e-05,\n",
              "       4.11046289e-05, 3.29464582e-05, 6.08725038e-05, 6.62066923e-05,\n",
              "       7.02857776e-05, 6.84031228e-05, 6.55791407e-05, 4.64388173e-05,\n",
              "       3.76530951e-05, 8.34643609e-05, 7.46786387e-05, 8.31505851e-05,\n",
              "       9.25638589e-05, 8.69158946e-05, 7.02857776e-05, 4.64388173e-05,\n",
              "       1.13273061e-04, 1.65987394e-04, 1.81989960e-04, 2.03326714e-04,\n",
              "       2.21211934e-04, 1.47474623e-04, 8.75434462e-05, 2.76122698e-04,\n",
              "       3.22561515e-04, 3.32916116e-04, 3.16913551e-04, 3.11579362e-04,\n",
              "       1.95482319e-04, 1.41826658e-04, 3.27895703e-04, 3.30719686e-04,\n",
              "       3.07500277e-04, 2.92125263e-04, 2.39410930e-04, 1.13586837e-04,\n",
              "       1.31785833e-04, 3.27268152e-04, 3.32602340e-04, 3.24757946e-04,\n",
              "       3.09382932e-04, 3.06245174e-04, 1.78852202e-04, 1.15469492e-04,\n",
              "       2.80829335e-04, 2.72984940e-04, 2.72671164e-04, 2.58237477e-04,\n",
              "       2.44745118e-04, 1.28648075e-04, 9.69567200e-05, 1.73518013e-04,\n",
              "       1.83245063e-04, 1.71321583e-04, 1.57829224e-04, 1.55632793e-04,\n",
              "       9.25638589e-05, 7.18546565e-05, 1.56574121e-04, 1.47788398e-04,\n",
              "       1.57201672e-04, 1.42454210e-04, 1.45905744e-04, 8.40919125e-05,\n",
              "       6.30689343e-05, 1.26451644e-04, 1.45591968e-04, 1.28648075e-04,\n",
              "       1.16724595e-04, 1.00094478e-04, 5.61658669e-05, 3.38877856e-05,\n",
              "       9.19363073e-05, 1.05742442e-04, 8.03266029e-05, 1.00722029e-04,\n",
              "       9.09949799e-05, 4.73801447e-05, 2.66709424e-05, 7.31097597e-05,\n",
              "       7.93852756e-05, 8.50332398e-05, 7.49924145e-05, 8.53470156e-05,\n",
              "       4.61250415e-05, 3.10638035e-05, 7.09133292e-05, 7.37373113e-05,\n",
              "       6.40102617e-05, 6.68342439e-05, 5.20867816e-05, 3.29464582e-05,\n",
              "       2.22780813e-05, 6.74617954e-05, 6.93444502e-05, 5.52245395e-05,\n",
              "       6.99720018e-05, 6.40102617e-05, 3.35740098e-05, 2.10229781e-05,\n",
              "       1.85127718e-05, 6.80893470e-05, 5.17730058e-05, 6.43240375e-05,\n",
              "       5.36556606e-05, 3.45153372e-05, 2.85535971e-05, 5.61658669e-05,\n",
              "       5.93036248e-05, 5.64796427e-05, 6.43240375e-05, 5.45969879e-05,\n",
              "       4.45561626e-05, 2.91811487e-05, 6.93444502e-05, 7.65612934e-05,\n",
              "       8.25230335e-05, 8.28368093e-05, 7.21684323e-05, 3.16913551e-05,\n",
              "       3.10638035e-05, 7.59337418e-05, 8.06403787e-05, 6.80893470e-05,\n",
              "       6.15000554e-05, 6.40102617e-05, 3.54566646e-05, 2.82398213e-05,\n",
              "       6.71480197e-05, 7.09133292e-05, 7.02857776e-05, 7.62475176e-05,\n",
              "       6.24413828e-05, 4.33010594e-05, 2.66709424e-05, 7.05995534e-05,\n",
              "       7.96990514e-05, 7.05995534e-05, 7.18546565e-05, 6.68342439e-05,\n",
              "       4.42423868e-05, 3.60842162e-05, 8.50332398e-05, 8.37781367e-05,\n",
              "       9.57016168e-05, 7.65612934e-05, 7.34235355e-05, 5.14592300e-05,\n",
              "       3.67117678e-05, 8.18954819e-05, 6.02449522e-05, 8.94261009e-05,\n",
              "       8.66021188e-05, 7.31097597e-05, 5.96174006e-05, 4.20459562e-05,\n",
              "       1.21431232e-04, 1.23313887e-04, 1.36806246e-04, 1.45905744e-04,\n",
              "       1.42454210e-04, 6.99720018e-05, 5.77347459e-05, 1.68183825e-04,\n",
              "       1.71321583e-04, 1.42767986e-04, 2.02385386e-04, 2.13053763e-04,\n",
              "       1.61594533e-04, 1.33040936e-04, 3.07500277e-04, 3.51115112e-04,\n",
              "       3.44212045e-04, 3.77786054e-04, 3.91905965e-04, 2.33135414e-04,\n",
              "       2.08974678e-04, 4.32696818e-04, 4.90117788e-04, 4.66898380e-04,\n",
              "       1.17352146e-04, 3.69627884e-04, 3.65548799e-04, 2.75181370e-04,\n",
              "       6.57360286e-04, 6.26296482e-04, 6.77755712e-04, 7.33921579e-04,\n",
              "       7.79105293e-04, 5.40635691e-04, 3.39191632e-04, 9.57957495e-04,\n",
              "       1.01067183e-03, 1.04487339e-03, 9.51681979e-04, 9.34424311e-04,\n",
              "       6.19707191e-04, 4.73487671e-04, 1.21619497e-03, 1.32727160e-03,\n",
              "       1.23784550e-03, 1.20772303e-03, 1.10198058e-03, 7.28587391e-04,\n",
              "       4.39286110e-04, 1.13492704e-03, 1.12896530e-03, 1.13022041e-03,\n",
              "       6.62694474e-04, 2.20584382e-04, 7.28901167e-04, 4.79449411e-04,\n",
              "       1.41795281e-03, 1.51836106e-03, 1.37057266e-03, 8.38095142e-04,\n",
              "       2.96831900e-04, 8.60687000e-04, 5.39380588e-04, 1.36398337e-03,\n",
              "       1.39002676e-03, 1.30342464e-03, 1.24380724e-03, 9.97493245e-04,\n",
              "       5.86446957e-04, 3.60842162e-04, 9.53564634e-04, 9.84000886e-04,\n",
              "       8.17072164e-04, 7.53689454e-04, 6.45436806e-04, 3.93788620e-04,\n",
              "       2.56982374e-04, 6.47633236e-04, 6.72421524e-04, 5.79230113e-04,\n",
              "       5.65737754e-04, 4.91059116e-04, 2.85535971e-04, 1.90148130e-04,\n",
              "       4.90117788e-04, 4.55602451e-04, 3.95043723e-04, 4.02260566e-04,\n",
              "       3.26013049e-04, 2.14308866e-04, 1.45591968e-04, 3.56763076e-04,\n",
              "       3.33229892e-04, 2.92752815e-04, 2.77064025e-04, 2.45058894e-04,\n",
              "       1.48729726e-04, 1.06369994e-04, 2.13995091e-04, 1.65673619e-04,\n",
              "       1.55632793e-04, 1.55946569e-04, 1.26451644e-04, 8.84847736e-05,\n",
              "       5.42832121e-05, 1.10135303e-04, 1.20803680e-04, 1.09193976e-04,\n",
              "       9.19363073e-05, 7.49924145e-05, 5.77347459e-05, 5.08316784e-05,\n",
              "       9.63291684e-05, 8.12679303e-05, 7.53061903e-05, 7.78163966e-05,\n",
              "       6.05587280e-05, 4.04770773e-05, 3.38877856e-05, 6.68342439e-05,\n",
              "       6.52653649e-05, 4.89490237e-05, 5.39694364e-05, 4.76939205e-05,\n",
              "       3.23189067e-05, 2.41607360e-05, 5.24005574e-05, 5.52245395e-05,\n",
              "       4.83214721e-05, 5.77347459e-05, 4.48699384e-05, 2.88673729e-05,\n",
              "       1.85127718e-05, 3.95357499e-05, 4.89490237e-05, 4.54974900e-05,\n",
              "       3.85944225e-05, 3.54566646e-05, 2.85535971e-05, 2.35331845e-05,\n",
              "       4.36148352e-05, 4.36148352e-05, 4.20459562e-05, 3.82806467e-05,\n",
              "       3.98495257e-05, 1.66301170e-05, 2.22780813e-05, 4.48699384e-05,\n",
              "       4.07908531e-05, 4.17321804e-05, 3.73393193e-05, 3.98495257e-05,\n",
              "       2.69847182e-05, 1.72576686e-05, 4.01633015e-05, 3.60842162e-05,\n",
              "       3.89081983e-05, 4.01633015e-05, 3.73393193e-05, 2.25918571e-05,\n",
              "       2.47882876e-05, 4.33010594e-05, 3.20051309e-05, 3.48291130e-05,\n",
              "       3.35740098e-05, 3.13775793e-05, 2.13367539e-05, 1.72576686e-05,\n",
              "       3.85944225e-05, 3.45153372e-05, 3.10638035e-05, 2.91811487e-05,\n",
              "       2.63571666e-05, 1.12959285e-05, 1.41199107e-05, 2.69847182e-05,\n",
              "       2.22780813e-05, 2.16505297e-05, 2.63571666e-05, 2.51020634e-05,\n",
              "       1.63163412e-05, 1.22372559e-05, 2.60433908e-05, 1.78852202e-05,\n",
              "       2.07092023e-05, 2.22780813e-05, 1.85127718e-05, 1.19234801e-05,\n",
              "       7.84439482e-06, 1.69438928e-05, 1.91403234e-05, 1.97678749e-05,\n",
              "       2.13367539e-05, 1.53750138e-05, 1.16097043e-05, 8.15817061e-06,\n",
              "       1.12959285e-05, 1.47474623e-05, 1.09821527e-05, 1.03546012e-05,\n",
              "       1.38061349e-05, 6.27551586e-06, 7.53061903e-06, 1.34923591e-05,\n",
              "       8.78572220e-06, 1.16097043e-05, 1.28648075e-05, 1.03546012e-05,\n",
              "       6.90306744e-06, 4.70663689e-06, 3.76530951e-06, 1.12959285e-05,\n",
              "       8.47194640e-06, 1.38061349e-05, 1.00408254e-05, 1.03546012e-05,\n",
              "       7.53061903e-06, 1.31785833e-05, 1.22372559e-05, 9.41327378e-06,\n",
              "       1.28648075e-05, 1.16097043e-05, 7.53061903e-06, 9.09949799e-06,\n",
              "       1.28648075e-05, 1.12959285e-05, 1.56887896e-05, 1.53750138e-05,\n",
              "       1.44336865e-05, 1.06683770e-05, 5.64796427e-06, 1.56887896e-05,\n",
              "       1.88265476e-05, 2.13367539e-05, 2.32194087e-05, 2.19643055e-05,\n",
              "       1.78852202e-05, 1.28648075e-05, 3.48291130e-05, 2.76122698e-05,\n",
              "       2.91811487e-05, 3.51428888e-05, 3.73393193e-05, 2.00816507e-05,\n",
              "       1.03546012e-05, 3.79668709e-05, 5.42832121e-05, 6.30689343e-05,\n",
              "       7.21684323e-05, 5.74209701e-05, 5.86760732e-05, 4.36148352e-05,\n",
              "       8.75434462e-05, 1.05114891e-04, 9.88393747e-05, 1.10762855e-04,\n",
              "       9.82118231e-05, 7.27959839e-05, 8.18954819e-05, 1.33982264e-04,\n",
              "       1.54691466e-04, 1.64418515e-04, 1.66301170e-04, 1.82617511e-04,\n",
              "       1.24568990e-04, 1.27706748e-04, 2.23094589e-04, 2.07405799e-04,\n",
              "       2.42234912e-04, 2.61375235e-04, 2.31252759e-04, 1.88579251e-04,\n",
              "       1.58456775e-04, 2.58865029e-04, 2.66709424e-04, 2.38783378e-04,\n",
              "       2.75495146e-04, 2.59178805e-04, 1.67556273e-04, 1.78538426e-04,\n",
              "       2.76750249e-04, 3.05931398e-04, 2.92125263e-04, 2.95263021e-04,\n",
              "       2.29997656e-04, 1.50298605e-04, 1.26137869e-04, 2.54785944e-04,\n",
              "       2.43490015e-04, 2.10229781e-04, 2.11798660e-04, 2.13995091e-04,\n",
              "       1.31785833e-04, 1.28020523e-04, 2.25291019e-04, 2.26232347e-04,\n",
              "       1.92658337e-04, 1.70380255e-04, 1.55946569e-04, 1.08252649e-04,\n",
              "       1.04487339e-04, 2.10229781e-04, 2.00816507e-04, 1.97992525e-04,\n",
              "       1.63790964e-04, 1.48415950e-04, 9.82118231e-05, 7.27959839e-05,\n",
              "       7.90714998e-05, 1.64418515e-04, 1.34609815e-04, 1.42454210e-04,\n",
              "       1.42454210e-04, 8.37781367e-05, 7.90714998e-05, 1.53122587e-04,\n",
              "       1.39630228e-04, 1.29903178e-04, 1.05428666e-04, 1.27706748e-04,\n",
              "       6.43240375e-05, 5.96174006e-05, 1.17979698e-04, 1.16724595e-04,\n",
              "       1.06997545e-04, 9.97807021e-05, 9.72704958e-05, 6.11862796e-05,\n",
              "       4.54974900e-05, 1.12645510e-04, 9.66429442e-05, 7.93852756e-05,\n",
              "       8.87985494e-05, 8.56607914e-05, 5.71071943e-05, 4.76939205e-05,\n",
              "       9.00536525e-05, 8.72296704e-05, 8.81709978e-05, 7.81301724e-05,\n",
              "       8.15817061e-05, 4.58112657e-05, 4.39286110e-05, 8.75434462e-05,\n",
              "       7.75026208e-05, 8.81709978e-05, 6.87168986e-05, 6.55791407e-05,\n",
              "       4.23597320e-05, 4.54974900e-05, 8.84847736e-05, 9.97807021e-05,\n",
              "       8.37781367e-05, 9.60153926e-05, 8.18954819e-05, 5.45969879e-05,\n",
              "       5.86760732e-05, 1.08252649e-04, 1.00408254e-04, 9.13087557e-05,\n",
              "       1.06056218e-04, 9.22500831e-05, 6.62066923e-05, 4.14184046e-05,\n",
              "       1.01035805e-04, 1.18293474e-04, 1.03546012e-04, 1.07311321e-04,\n",
              "       9.25638589e-05, 6.49515891e-05, 5.52245395e-05, 9.78980473e-05,\n",
              "       9.41327378e-05, 9.66429442e-05, 8.78572220e-05, 8.91123251e-05,\n",
              "       6.08725038e-05, 4.54974900e-05, 1.04487339e-04, 8.28368093e-05,\n",
              "       8.44056883e-05, 7.96990514e-05, 7.87577240e-05, 4.48699384e-05,\n",
              "       5.27143332e-05, 7.96990514e-05, 7.62475176e-05, 7.21684323e-05,\n",
              "       2.82398213e-05, 7.78163966e-05, 6.93444502e-05, 5.67934185e-05,\n",
              "       1.32413385e-04, 1.31158281e-04, 1.32413385e-04, 1.27079196e-04,\n",
              "       1.10449079e-04, 7.09133292e-05, 6.05587280e-05, 1.31785833e-04,\n",
              "       1.19862353e-04, 1.10762855e-04, 1.14841940e-04, 1.02604684e-04,\n",
              "       8.03266029e-05, 5.99311764e-05, 1.39630228e-04, 1.24255214e-04,\n",
              "       1.66614946e-04, 1.84500166e-04, 1.83872615e-04, 1.45278192e-04,\n",
              "       1.62849636e-04, 3.99122808e-04, 5.25888229e-04, 7.03799103e-04,\n",
              "       7.68750692e-04, 4.90431564e-04, 2.39724706e-04, 8.33074730e-04,\n",
              "       1.97113953e-03, 2.35582865e-03, 2.42831086e-03, 2.34139497e-03,\n",
              "       1.56856519e-03, 7.00033794e-04, 1.28804963e-03, 3.40227092e-03,\n",
              "       3.52276083e-03, 3.35018414e-03, 3.10292881e-03, 2.87638269e-03,\n",
              "       1.44274110e-03, 1.13492704e-03, 3.04174254e-03, 2.66552536e-03,\n",
              "       2.35457355e-03, 2.09319831e-03, 1.97992525e-03, 1.09947038e-03,\n",
              "       7.35176682e-04, 1.66865967e-03, 1.88202720e-03, 1.66552191e-03,\n",
              "       1.45529213e-03, 1.25353429e-03, 6.84972556e-04, 4.84156048e-04,\n",
              "       9.78980473e-04, 8.27112990e-04, 7.27332288e-04, 6.35082205e-04,\n",
              "       5.44401000e-04, 3.31974789e-04, 1.99875180e-04, 5.08003008e-04,\n",
              "       4.22028441e-04, 3.77786054e-04, 3.07814053e-04, 2.30625208e-04,\n",
              "       7.87577240e-05, 5.11454542e-05, 5.71071943e-05, 9.41327378e-07])"
            ]
          },
          "metadata": {},
          "execution_count": 28
        }
      ]
    },
    {
      "cell_type": "code",
      "source": [
        "#intersets at about t=124\n",
        "N2 = int(S[126] * N)\n",
        "N2"
      ],
      "metadata": {
        "colab": {
          "base_uri": "https://localhost:8080/"
        },
        "id": "pZetTo8-gXc8",
        "outputId": "a762aa65-0054-46f3-f322-d28d158181ee"
      },
      "execution_count": null,
      "outputs": [
        {
          "output_type": "execute_result",
          "data": {
            "text/plain": [
              "2933507"
            ]
          },
          "metadata": {},
          "execution_count": 193
        }
      ]
    },
    {
      "cell_type": "code",
      "source": [
        "t = np.linspace(0, df_new.shape[0] - 1, df_new.shape[0])\n",
        "plt.plot(t, df_new)"
      ],
      "metadata": {
        "id": "h_e-qeJHoiXF",
        "outputId": "c0cb319b-c6be-4ef9-bcee-8f277cc5b6b9",
        "colab": {
          "base_uri": "https://localhost:8080/",
          "height": 369
        }
      },
      "execution_count": null,
      "outputs": [
        {
          "output_type": "execute_result",
          "data": {
            "text/plain": [
              "[<matplotlib.lines.Line2D at 0x7f08a5d70ad0>,\n",
              " <matplotlib.lines.Line2D at 0x7f08a5726f10>,\n",
              " <matplotlib.lines.Line2D at 0x7f08a57264d0>,\n",
              " <matplotlib.lines.Line2D at 0x7f08a5726b10>,\n",
              " <matplotlib.lines.Line2D at 0x7f08a5726250>,\n",
              " <matplotlib.lines.Line2D at 0x7f08a5726e10>]"
            ]
          },
          "metadata": {},
          "execution_count": 219
        },
        {
          "output_type": "display_data",
          "data": {
            "image/png": "[encoded data removed]",
            "text/plain": [
              "<Figure size 432x288 with 1 Axes>"
            ]
          },
          "metadata": {
            "needs_background": "light"
          }
        }
      ]
    },
    {
      "cell_type": "code",
      "source": [
        "np.log(np.exp(2))\n",
        "d = (1/120) * np.log(N*y1_a[120])\n",
        "test_k = 1/3\n",
        "test_a = test_k + d\n",
        "print(test_a)\n",
        "print(test_k)"
      ],
      "metadata": {
        "colab": {
          "base_uri": "https://localhost:8080/"
        },
        "id": "O43yCJsB51Q6",
        "outputId": "3c2c4442-57d3-493e-867e-905f8a552794"
      },
      "execution_count": null,
      "outputs": [
        {
          "output_type": "stream",
          "name": "stdout",
          "text": [
            "0.42168169579049586\n",
            "0.3333333333333333\n"
          ]
        }
      ]
    },
    {
      "cell_type": "code",
      "source": [
        "max(y2_c)"
      ],
      "metadata": {
        "colab": {
          "base_uri": "https://localhost:8080/"
        },
        "id": "FmIz7EgW4s9a",
        "outputId": "182739c0-1f2a-4730-df7e-9b1a37d31040"
      },
      "execution_count": null,
      "outputs": [
        {
          "output_type": "execute_result",
          "data": {
            "text/plain": [
              "0.07886597663186161"
            ]
          },
          "metadata": {},
          "execution_count": 222
        }
      ]
    },
    {
      "cell_type": "code",
      "source": [
        "#higher a-value means higher peak but shorter pandemic\n",
        "#higher k-value means lower peak but longer pandemic"
      ],
      "metadata": {
        "id": "jTxQ5qis7qMh"
      },
      "execution_count": null,
      "outputs": []
    },
    {
      "cell_type": "code",
      "source": [
        "def wave2(a, k):\n",
        "  size2 = df_wave2.shape[0]\n",
        "  t = np.linspace(0, size2-1, size2)\n",
        "  x = odeint(odes,x0,t, args=(a, k))\n",
        "\n",
        "  S = x[:,0]\n",
        "  I = x[:,1]\n",
        "  R = x[:,2]\n",
        "\n",
        "  y2_a = df_wave2['Total Infected for 7-day Avg'].to_numpy().copy()\n",
        "  y2_a /= N2\n",
        "  y2_b = df_wave2['Total Infected for 28-day Avg'].to_numpy().copy()\n",
        "  y2_b /= N2\n",
        "  y2_c = df_wave2['Total Infected'].to_numpy().copy()\n",
        "  y2_c.astype(float)\n",
        "  y2_c /= N2\n",
        "  y2 = np.array([y2_a, y2_b, y2_c])\n",
        "\n",
        "  fig2 = plt.figure(1); fig2.clf()\n",
        "  #plt.plot(t, S, 'g', lw=3, label='Suseptible')\n",
        "  plt.plot(t, I, 'r', lw=3, label='Infective')\n",
        "  #plt.plot(t, R, 'b', lw=3, label='Removed')\n",
        "  plt.plot(t, y2[0], 'y', lw=3, label='7-day Avg')\n",
        "  plt.plot(t, y2[1], 'brown', lw=3, label='28-day Avg')\n",
        "  plt.plot(t, y2[2], 'm', lw=3, label='Raw Data')\n",
        "\n",
        "  fig2.legend()\n",
        "  plt.xlabel('Time (days)')\n",
        "  plt.ylabel('Population')\n",
        "\n",
        "  return S, I, R\n",
        "\n",
        "const = 0.35\n",
        "a = 0.7*const\n",
        "k = 0.3333333333333333*const\n",
        "S, I, R = wave2(a, k)\n",
        "R0 = a/k\n",
        "print(\"a = \", a)\n",
        "print(\"k = \", k)\n",
        "print(\"R0 = \", R0)\n",
        "print(\"Max = \", max(I))"
      ],
      "metadata": {
        "colab": {
          "base_uri": "https://localhost:8080/",
          "height": 379
        },
        "id": "xzdVlXHwXFFA",
        "outputId": "4b3294ae-b870-4a85-fc4b-248a18b18098"
      },
      "execution_count": null,
      "outputs": [
        {
          "output_type": "stream",
          "name": "stdout",
          "text": [
            "a =  0.24499999999999997\n",
            "k =  0.11666666666666665\n",
            "R0 =  2.1\n",
            "Max =  0.17044897038604553\n"
          ]
        },
        {
          "output_type": "display_data",
          "data": {
            "image/png": "[encoded data removed]",
            "text/plain": [
              "<Figure size 432x288 with 1 Axes>"
            ]
          },
          "metadata": {
            "needs_background": "light"
          }
        }
      ]
    },
    {
      "cell_type": "code",
      "source": [
        "d = (1/50) * np.log(N*y2_a[50])\n",
        "test_k = 1/3\n",
        "test_a = test_k + d\n",
        "print(test_a)\n",
        "print(test_k)"
      ],
      "metadata": {
        "colab": {
          "base_uri": "https://localhost:8080/"
        },
        "id": "EYTmVDJAjLz7",
        "outputId": "4b53ff01-683c-484b-c644-066f082cf7bb"
      },
      "execution_count": null,
      "outputs": [
        {
          "output_type": "stream",
          "name": "stdout",
          "text": [
            "0.5564160950799742\n",
            "0.3333333333333333\n"
          ]
        }
      ]
    },
    {
      "cell_type": "code",
      "source": [
        "fig1 = plt.figure(1); fig1.clf()\n",
        "#plt.plot(t, S, 'g', lw=3, label='Suseptible')\n",
        "plt.plot(t, I, 'r', lw=3, label='Infective')\n",
        "#plt.plot(t, R, 'b', lw=3, label='Removed')\n",
        "plt.plot(t, y1[0], 'y', lw=3, label='7-day Avg')\n",
        "plt.plot(t, y1[1], 'brown', lw=3, label='28-day Avg')\n",
        "plt.plot(t, y1[2], 'm', lw=3, label='Raw Data')\n",
        "\n",
        "fig1.legend()\n",
        "plt.xlabel('Time (days)')\n",
        "plt.ylabel('Population')"
      ],
      "metadata": {
        "id": "YW6qGoRIWxu2"
      },
      "execution_count": null,
      "outputs": []
    },
    {
      "cell_type": "code",
      "source": [
        "t = np.linspace(0, 10)\n",
        "x = odeint(odes,x0,t, args=(6,1.4))\n",
        "\n",
        "S = x[:,0]\n",
        "I = x[:,1]\n",
        "R = x[:,2]\n",
        "\n",
        "print(max(I))\n",
        "fig = plt.figure(1); fig.clf()\n",
        "plt.plot(t, S, 'g', lw=3, label='Suseptible')\n",
        "plt.plot(t, I, 'r', lw=3, label='Infective')\n",
        "plt.plot(t, R, 'b', lw=3, label='Removed')\n",
        "\n",
        "fig.legend()\n",
        "plt.xlabel('Time (days)')\n",
        "plt.ylabel('Population')"
      ],
      "metadata": {
        "id": "xTfIC9un5Ce_"
      },
      "execution_count": null,
      "outputs": []
    },
    {
      "cell_type": "code",
      "source": [
        "print(max(I))\n",
        "print(max(y1[0]))"
      ],
      "metadata": {
        "colab": {
          "base_uri": "https://localhost:8080/"
        },
        "id": "7_kpzx-54Puq",
        "outputId": "961ae8a1-7ad5-49db-823b-6e9c11ef4828"
      },
      "execution_count": null,
      "outputs": [
        {
          "output_type": "stream",
          "name": "stdout",
          "text": [
            "0.4227124237226342\n",
            "0.016981501079187014\n"
          ]
        }
      ]
    },
    {
      "cell_type": "code",
      "source": [
        "df_wave1"
      ],
      "metadata": {
        "id": "TS65HK1Zdqxx"
      },
      "execution_count": null,
      "outputs": []
    }
  ]
}