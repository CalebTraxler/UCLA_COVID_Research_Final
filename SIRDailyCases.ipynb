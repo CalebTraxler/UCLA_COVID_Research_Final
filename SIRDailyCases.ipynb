{
  "nbformat": 4,
  "nbformat_minor": 0,
  "metadata": {
    "colab": {
      "provenance": []
    },
    "kernelspec": {
      "name": "python3",
      "display_name": "Python 3"
    },
    "language_info": {
      "name": "python"
    }
  },
  "cells": [
    {
      "cell_type": "markdown",
      "source": [
        "# Preprocessing the Data"
      ],
      "metadata": {
        "id": "Lx74MZAsBkJS"
      }
    },
    {
      "cell_type": "code",
      "execution_count": null,
      "metadata": {
        "id": "ALG4rribcJ0U"
      },
      "outputs": [],
      "source": [
        "import pandas as pd\n",
        "import numpy as np\n",
        "import matplotlib.pyplot as plt\n",
        "from numpy.lib.arraysetops import setxor1d\n",
        "from scipy.integrate import odeint"
      ]
    },
    {
      "cell_type": "code",
      "source": [
        "from google.colab import drive\n",
        "drive.mount('/content/drive')"
      ],
      "metadata": {
        "colab": {
          "base_uri": "https://localhost:8080/"
        },
        "id": "cAc6IX6LceTG",
        "outputId": "42c27572-6c37-4fa1-a759-2f5d41a2dbd1"
      },
      "execution_count": null,
      "outputs": [
        {
          "output_type": "stream",
          "name": "stdout",
          "text": [
            "Mounted at /content/drive\n"
          ]
        }
      ]
    },
    {
      "cell_type": "code",
      "source": [
        "df = pd.read_csv('/content/drive/MyDrive/Math 142 Project/Datasets1/allData.csv', index_col='DateSpecCollect', parse_dates=True)\n",
        "df_recovered = pd.read_csv('/content/drive/MyDrive/Math 142 Project/Datasets1/Recovered.csv', index_col='DateSpecCollect', parse_dates=True)"
      ],
      "metadata": {
        "id": "EU_NJgsdckqS",
        "colab": {
          "base_uri": "https://localhost:8080/",
          "height": 329
        },
        "outputId": "8a4ea9eb-373b-4f87-e1d6-977f72dbfdba"
      },
      "execution_count": null,
      "outputs": [
        {
          "output_type": "error",
          "ename": "FileNotFoundError",
          "evalue": "ignored",
          "traceback": [
            "\u001b[0;31m---------------------------------------------------------------------------\u001b[0m",
            "\u001b[0;31mFileNotFoundError\u001b[0m                         Traceback (most recent call last)",
            "\u001b[0;32m<ipython-input-4-342f20f60564>\u001b[0m in \u001b[0;36m<cell line: 1>\u001b[0;34m()\u001b[0m\n\u001b[0;32m----> 1\u001b[0;31m \u001b[0mdf\u001b[0m \u001b[0;34m=\u001b[0m \u001b[0mpd\u001b[0m\u001b[0;34m.\u001b[0m\u001b[0mread_csv\u001b[0m\u001b[0;34m(\u001b[0m\u001b[0;34m'/content/drive/MyDrive/Math 142 Project/Datasets1/allData.csv'\u001b[0m\u001b[0;34m,\u001b[0m \u001b[0mindex_col\u001b[0m\u001b[0;34m=\u001b[0m\u001b[0;34m'DateSpecCollect'\u001b[0m\u001b[0;34m,\u001b[0m \u001b[0mparse_dates\u001b[0m\u001b[0;34m=\u001b[0m\u001b[0;32mTrue\u001b[0m\u001b[0;34m)\u001b[0m\u001b[0;34m\u001b[0m\u001b[0;34m\u001b[0m\u001b[0m\n\u001b[0m\u001b[1;32m      2\u001b[0m \u001b[0mdf_recovered\u001b[0m \u001b[0;34m=\u001b[0m \u001b[0mpd\u001b[0m\u001b[0;34m.\u001b[0m\u001b[0mread_csv\u001b[0m\u001b[0;34m(\u001b[0m\u001b[0;34m'/content/drive/MyDrive/Math 142 Project/Datasets1/Recovered.csv'\u001b[0m\u001b[0;34m,\u001b[0m \u001b[0mindex_col\u001b[0m\u001b[0;34m=\u001b[0m\u001b[0;34m'DateSpecCollect'\u001b[0m\u001b[0;34m,\u001b[0m \u001b[0mparse_dates\u001b[0m\u001b[0;34m=\u001b[0m\u001b[0;32mTrue\u001b[0m\u001b[0;34m)\u001b[0m\u001b[0;34m\u001b[0m\u001b[0;34m\u001b[0m\u001b[0m\n",
            "\u001b[0;32m/usr/local/lib/python3.10/dist-packages/pandas/util/_decorators.py\u001b[0m in \u001b[0;36mwrapper\u001b[0;34m(*args, **kwargs)\u001b[0m\n\u001b[1;32m    209\u001b[0m                 \u001b[0;32melse\u001b[0m\u001b[0;34m:\u001b[0m\u001b[0;34m\u001b[0m\u001b[0;34m\u001b[0m\u001b[0m\n\u001b[1;32m    210\u001b[0m                     \u001b[0mkwargs\u001b[0m\u001b[0;34m[\u001b[0m\u001b[0mnew_arg_name\u001b[0m\u001b[0;34m]\u001b[0m \u001b[0;34m=\u001b[0m \u001b[0mnew_arg_value\u001b[0m\u001b[0;34m\u001b[0m\u001b[0;34m\u001b[0m\u001b[0m\n\u001b[0;32m--> 211\u001b[0;31m             \u001b[0;32mreturn\u001b[0m \u001b[0mfunc\u001b[0m\u001b[0;34m(\u001b[0m\u001b[0;34m*\u001b[0m\u001b[0margs\u001b[0m\u001b[0;34m,\u001b[0m \u001b[0;34m**\u001b[0m\u001b[0mkwargs\u001b[0m\u001b[0;34m)\u001b[0m\u001b[0;34m\u001b[0m\u001b[0;34m\u001b[0m\u001b[0m\n\u001b[0m\u001b[1;32m    212\u001b[0m \u001b[0;34m\u001b[0m\u001b[0m\n\u001b[1;32m    213\u001b[0m         \u001b[0;32mreturn\u001b[0m \u001b[0mcast\u001b[0m\u001b[0;34m(\u001b[0m\u001b[0mF\u001b[0m\u001b[0;34m,\u001b[0m \u001b[0mwrapper\u001b[0m\u001b[0;34m)\u001b[0m\u001b[0;34m\u001b[0m\u001b[0;34m\u001b[0m\u001b[0m\n",
            "\u001b[0;32m/usr/local/lib/python3.10/dist-packages/pandas/util/_decorators.py\u001b[0m in \u001b[0;36mwrapper\u001b[0;34m(*args, **kwargs)\u001b[0m\n\u001b[1;32m    329\u001b[0m                     \u001b[0mstacklevel\u001b[0m\u001b[0;34m=\u001b[0m\u001b[0mfind_stack_level\u001b[0m\u001b[0;34m(\u001b[0m\u001b[0;34m)\u001b[0m\u001b[0;34m,\u001b[0m\u001b[0;34m\u001b[0m\u001b[0;34m\u001b[0m\u001b[0m\n\u001b[1;32m    330\u001b[0m                 )\n\u001b[0;32m--> 331\u001b[0;31m             \u001b[0;32mreturn\u001b[0m \u001b[0mfunc\u001b[0m\u001b[0;34m(\u001b[0m\u001b[0;34m*\u001b[0m\u001b[0margs\u001b[0m\u001b[0;34m,\u001b[0m \u001b[0;34m**\u001b[0m\u001b[0mkwargs\u001b[0m\u001b[0;34m)\u001b[0m\u001b[0;34m\u001b[0m\u001b[0;34m\u001b[0m\u001b[0m\n\u001b[0m\u001b[1;32m    332\u001b[0m \u001b[0;34m\u001b[0m\u001b[0m\n\u001b[1;32m    333\u001b[0m         \u001b[0;31m# error: \"Callable[[VarArg(Any), KwArg(Any)], Any]\" has no\u001b[0m\u001b[0;34m\u001b[0m\u001b[0;34m\u001b[0m\u001b[0m\n",
            "\u001b[0;32m/usr/local/lib/python3.10/dist-packages/pandas/io/parsers/readers.py\u001b[0m in \u001b[0;36mread_csv\u001b[0;34m(filepath_or_buffer, sep, delimiter, header, names, index_col, usecols, squeeze, prefix, mangle_dupe_cols, dtype, engine, converters, true_values, false_values, skipinitialspace, skiprows, skipfooter, nrows, na_values, keep_default_na, na_filter, verbose, skip_blank_lines, parse_dates, infer_datetime_format, keep_date_col, date_parser, dayfirst, cache_dates, iterator, chunksize, compression, thousands, decimal, lineterminator, quotechar, quoting, doublequote, escapechar, comment, encoding, encoding_errors, dialect, error_bad_lines, warn_bad_lines, on_bad_lines, delim_whitespace, low_memory, memory_map, float_precision, storage_options)\u001b[0m\n\u001b[1;32m    948\u001b[0m     \u001b[0mkwds\u001b[0m\u001b[0;34m.\u001b[0m\u001b[0mupdate\u001b[0m\u001b[0;34m(\u001b[0m\u001b[0mkwds_defaults\u001b[0m\u001b[0;34m)\u001b[0m\u001b[0;34m\u001b[0m\u001b[0;34m\u001b[0m\u001b[0m\n\u001b[1;32m    949\u001b[0m \u001b[0;34m\u001b[0m\u001b[0m\n\u001b[0;32m--> 950\u001b[0;31m     \u001b[0;32mreturn\u001b[0m \u001b[0m_read\u001b[0m\u001b[0;34m(\u001b[0m\u001b[0mfilepath_or_buffer\u001b[0m\u001b[0;34m,\u001b[0m \u001b[0mkwds\u001b[0m\u001b[0;34m)\u001b[0m\u001b[0;34m\u001b[0m\u001b[0;34m\u001b[0m\u001b[0m\n\u001b[0m\u001b[1;32m    951\u001b[0m \u001b[0;34m\u001b[0m\u001b[0m\n\u001b[1;32m    952\u001b[0m \u001b[0;34m\u001b[0m\u001b[0m\n",
            "\u001b[0;32m/usr/local/lib/python3.10/dist-packages/pandas/io/parsers/readers.py\u001b[0m in \u001b[0;36m_read\u001b[0;34m(filepath_or_buffer, kwds)\u001b[0m\n\u001b[1;32m    603\u001b[0m \u001b[0;34m\u001b[0m\u001b[0m\n\u001b[1;32m    604\u001b[0m     \u001b[0;31m# Create the parser.\u001b[0m\u001b[0;34m\u001b[0m\u001b[0;34m\u001b[0m\u001b[0m\n\u001b[0;32m--> 605\u001b[0;31m     \u001b[0mparser\u001b[0m \u001b[0;34m=\u001b[0m \u001b[0mTextFileReader\u001b[0m\u001b[0;34m(\u001b[0m\u001b[0mfilepath_or_buffer\u001b[0m\u001b[0;34m,\u001b[0m \u001b[0;34m**\u001b[0m\u001b[0mkwds\u001b[0m\u001b[0;34m)\u001b[0m\u001b[0;34m\u001b[0m\u001b[0;34m\u001b[0m\u001b[0m\n\u001b[0m\u001b[1;32m    606\u001b[0m \u001b[0;34m\u001b[0m\u001b[0m\n\u001b[1;32m    607\u001b[0m     \u001b[0;32mif\u001b[0m \u001b[0mchunksize\u001b[0m \u001b[0;32mor\u001b[0m \u001b[0miterator\u001b[0m\u001b[0;34m:\u001b[0m\u001b[0;34m\u001b[0m\u001b[0;34m\u001b[0m\u001b[0m\n",
            "\u001b[0;32m/usr/local/lib/python3.10/dist-packages/pandas/io/parsers/readers.py\u001b[0m in \u001b[0;36m__init__\u001b[0;34m(self, f, engine, **kwds)\u001b[0m\n\u001b[1;32m   1440\u001b[0m \u001b[0;34m\u001b[0m\u001b[0m\n\u001b[1;32m   1441\u001b[0m         \u001b[0mself\u001b[0m\u001b[0;34m.\u001b[0m\u001b[0mhandles\u001b[0m\u001b[0;34m:\u001b[0m \u001b[0mIOHandles\u001b[0m \u001b[0;34m|\u001b[0m \u001b[0;32mNone\u001b[0m \u001b[0;34m=\u001b[0m \u001b[0;32mNone\u001b[0m\u001b[0;34m\u001b[0m\u001b[0;34m\u001b[0m\u001b[0m\n\u001b[0;32m-> 1442\u001b[0;31m         \u001b[0mself\u001b[0m\u001b[0;34m.\u001b[0m\u001b[0m_engine\u001b[0m \u001b[0;34m=\u001b[0m \u001b[0mself\u001b[0m\u001b[0;34m.\u001b[0m\u001b[0m_make_engine\u001b[0m\u001b[0;34m(\u001b[0m\u001b[0mf\u001b[0m\u001b[0;34m,\u001b[0m \u001b[0mself\u001b[0m\u001b[0;34m.\u001b[0m\u001b[0mengine\u001b[0m\u001b[0;34m)\u001b[0m\u001b[0;34m\u001b[0m\u001b[0;34m\u001b[0m\u001b[0m\n\u001b[0m\u001b[1;32m   1443\u001b[0m \u001b[0;34m\u001b[0m\u001b[0m\n\u001b[1;32m   1444\u001b[0m     \u001b[0;32mdef\u001b[0m \u001b[0mclose\u001b[0m\u001b[0;34m(\u001b[0m\u001b[0mself\u001b[0m\u001b[0;34m)\u001b[0m \u001b[0;34m->\u001b[0m \u001b[0;32mNone\u001b[0m\u001b[0;34m:\u001b[0m\u001b[0;34m\u001b[0m\u001b[0;34m\u001b[0m\u001b[0m\n",
            "\u001b[0;32m/usr/local/lib/python3.10/dist-packages/pandas/io/parsers/readers.py\u001b[0m in \u001b[0;36m_make_engine\u001b[0;34m(self, f, engine)\u001b[0m\n\u001b[1;32m   1733\u001b[0m                 \u001b[0;32mif\u001b[0m \u001b[0;34m\"b\"\u001b[0m \u001b[0;32mnot\u001b[0m \u001b[0;32min\u001b[0m \u001b[0mmode\u001b[0m\u001b[0;34m:\u001b[0m\u001b[0;34m\u001b[0m\u001b[0;34m\u001b[0m\u001b[0m\n\u001b[1;32m   1734\u001b[0m                     \u001b[0mmode\u001b[0m \u001b[0;34m+=\u001b[0m \u001b[0;34m\"b\"\u001b[0m\u001b[0;34m\u001b[0m\u001b[0;34m\u001b[0m\u001b[0m\n\u001b[0;32m-> 1735\u001b[0;31m             self.handles = get_handle(\n\u001b[0m\u001b[1;32m   1736\u001b[0m                 \u001b[0mf\u001b[0m\u001b[0;34m,\u001b[0m\u001b[0;34m\u001b[0m\u001b[0;34m\u001b[0m\u001b[0m\n\u001b[1;32m   1737\u001b[0m                 \u001b[0mmode\u001b[0m\u001b[0;34m,\u001b[0m\u001b[0;34m\u001b[0m\u001b[0;34m\u001b[0m\u001b[0m\n",
            "\u001b[0;32m/usr/local/lib/python3.10/dist-packages/pandas/io/common.py\u001b[0m in \u001b[0;36mget_handle\u001b[0;34m(path_or_buf, mode, encoding, compression, memory_map, is_text, errors, storage_options)\u001b[0m\n\u001b[1;32m    854\u001b[0m         \u001b[0;32mif\u001b[0m \u001b[0mioargs\u001b[0m\u001b[0;34m.\u001b[0m\u001b[0mencoding\u001b[0m \u001b[0;32mand\u001b[0m \u001b[0;34m\"b\"\u001b[0m \u001b[0;32mnot\u001b[0m \u001b[0;32min\u001b[0m \u001b[0mioargs\u001b[0m\u001b[0;34m.\u001b[0m\u001b[0mmode\u001b[0m\u001b[0;34m:\u001b[0m\u001b[0;34m\u001b[0m\u001b[0;34m\u001b[0m\u001b[0m\n\u001b[1;32m    855\u001b[0m             \u001b[0;31m# Encoding\u001b[0m\u001b[0;34m\u001b[0m\u001b[0;34m\u001b[0m\u001b[0m\n\u001b[0;32m--> 856\u001b[0;31m             handle = open(\n\u001b[0m\u001b[1;32m    857\u001b[0m                 \u001b[0mhandle\u001b[0m\u001b[0;34m,\u001b[0m\u001b[0;34m\u001b[0m\u001b[0;34m\u001b[0m\u001b[0m\n\u001b[1;32m    858\u001b[0m                 \u001b[0mioargs\u001b[0m\u001b[0;34m.\u001b[0m\u001b[0mmode\u001b[0m\u001b[0;34m,\u001b[0m\u001b[0;34m\u001b[0m\u001b[0;34m\u001b[0m\u001b[0m\n",
            "\u001b[0;31mFileNotFoundError\u001b[0m: [Errno 2] No such file or directory: '/content/drive/MyDrive/Math 142 Project/Datasets1/allData.csv'"
          ]
        }
      ]
    },
    {
      "cell_type": "code",
      "source": [
        "def cumulative_list(name, reference, table):\n",
        "  size = table.shape[0]\n",
        "  columns = list(table.columns)\n",
        "  col_ind = columns.index(reference)\n",
        "  arr = []\n",
        "  for i in range(size):\n",
        "    toAdd = table.iloc[0:i+1, col_ind].sum() + 0.0\n",
        "    arr.append(toAdd)\n",
        "  table[name] = arr\n",
        "  return table"
      ],
      "metadata": {
        "id": "8sVUL2vNrKVK"
      },
      "execution_count": null,
      "outputs": []
    },
    {
      "cell_type": "code",
      "source": [
        "df_temp = df.sort_values(by='DateSpecCollect')\n",
        "df_temp.drop(columns=['Total.1', '528641'], axis=1, inplace=True)\n",
        "df_temp.rename(columns={'Total': 'Infected per day'}, inplace=True)\n",
        "df_temp['Infected per day'] = df_temp['Infected per day'].astype('float64')\n",
        "df_temp['7-day Avg'] = df_temp['Infected per day'].rolling(window=7).mean()\n",
        "df_temp['28-day Avg'] = df_temp['Infected per day'].rolling(window=28).mean()\n",
        "cumulative_list(\"Cumul. Infected for 7-day Avg\", \"7-day Avg\", df_temp)\n",
        "cumulative_list(\"Cumul. Infected for 28-day Avg\", \"28-day Avg\", df_temp)\n",
        "cumulative_list(\"Cumul. Infected\", \"Infected per day\", df_temp)\n",
        "df_temp['Recovered'] = df_recovered\n",
        "\n",
        "list_recovered = []\n",
        "for i in range(df.shape[0]):\n",
        "  to_append = df_temp['Cumul. Infected'][i] - df_temp['Recovered'][i]\n",
        "  list_recovered.append(to_append)\n",
        "df_temp['Number of Infected'] = list_recovered\n",
        "\n",
        "df_new = df_temp.loc['2020-03-15':'2022-02-08', :].copy()\n",
        "df_new"
      ],
      "metadata": {
        "colab": {
          "base_uri": "https://localhost:8080/",
          "height": 516
        },
        "id": "NEqu1j-6hxEm",
        "outputId": "1878c720-e8be-4a9a-8f57-58f684d32ddd"
      },
      "execution_count": null,
      "outputs": [
        {
          "output_type": "execute_result",
          "data": {
            "text/html": [
              "\n",
              "  <div id=\"df-d9a578a7-f0e4-409f-875f-b6ecd276f872\">\n",
              "    <div class=\"colab-df-container\">\n",
              "      <div>\n",
              "<style scoped>\n",
              "    .dataframe tbody tr th:only-of-type {\n",
              "        vertical-align: middle;\n",
              "    }\n",
              "\n",
              "    .dataframe tbody tr th {\n",
              "        vertical-align: top;\n",
              "    }\n",
              "\n",
              "    .dataframe thead th {\n",
              "        text-align: right;\n",
              "    }\n",
              "</style>\n",
              "<table border=\"1\" class=\"dataframe\">\n",
              "  <thead>\n",
              "    <tr style=\"text-align: right;\">\n",
              "      <th></th>\n",
              "      <th>Infected per day</th>\n",
              "      <th>7-day Avg</th>\n",
              "      <th>28-day Avg</th>\n",
              "      <th>Cumul. Infected for 7-day Avg</th>\n",
              "      <th>Cumul. Infected for 28-day Avg</th>\n",
              "      <th>Cumul. Infected</th>\n",
              "      <th>Recovered</th>\n",
              "      <th>Number of Infected</th>\n",
              "    </tr>\n",
              "    <tr>\n",
              "      <th>DateSpecCollect</th>\n",
              "      <th></th>\n",
              "      <th></th>\n",
              "      <th></th>\n",
              "      <th></th>\n",
              "      <th></th>\n",
              "      <th></th>\n",
              "      <th></th>\n",
              "      <th></th>\n",
              "    </tr>\n",
              "  </thead>\n",
              "  <tbody>\n",
              "    <tr>\n",
              "      <th>2020-03-15</th>\n",
              "      <td>11.0</td>\n",
              "      <td>9.714286</td>\n",
              "      <td>NaN</td>\n",
              "      <td>37.571429</td>\n",
              "      <td>0.000000</td>\n",
              "      <td>87.0</td>\n",
              "      <td>0.0</td>\n",
              "      <td>87.0</td>\n",
              "    </tr>\n",
              "    <tr>\n",
              "      <th>2020-03-16</th>\n",
              "      <td>34.0</td>\n",
              "      <td>14.428571</td>\n",
              "      <td>NaN</td>\n",
              "      <td>52.000000</td>\n",
              "      <td>0.000000</td>\n",
              "      <td>121.0</td>\n",
              "      <td>0.0</td>\n",
              "      <td>121.0</td>\n",
              "    </tr>\n",
              "    <tr>\n",
              "      <th>2020-03-17</th>\n",
              "      <td>42.0</td>\n",
              "      <td>20.142857</td>\n",
              "      <td>NaN</td>\n",
              "      <td>72.142857</td>\n",
              "      <td>0.000000</td>\n",
              "      <td>163.0</td>\n",
              "      <td>0.0</td>\n",
              "      <td>163.0</td>\n",
              "    </tr>\n",
              "    <tr>\n",
              "      <th>2020-03-18</th>\n",
              "      <td>32.0</td>\n",
              "      <td>24.000000</td>\n",
              "      <td>NaN</td>\n",
              "      <td>96.142857</td>\n",
              "      <td>0.000000</td>\n",
              "      <td>195.0</td>\n",
              "      <td>0.0</td>\n",
              "      <td>195.0</td>\n",
              "    </tr>\n",
              "    <tr>\n",
              "      <th>2020-03-19</th>\n",
              "      <td>51.0</td>\n",
              "      <td>29.714286</td>\n",
              "      <td>NaN</td>\n",
              "      <td>125.857143</td>\n",
              "      <td>0.000000</td>\n",
              "      <td>246.0</td>\n",
              "      <td>0.0</td>\n",
              "      <td>246.0</td>\n",
              "    </tr>\n",
              "    <tr>\n",
              "      <th>...</th>\n",
              "      <td>...</td>\n",
              "      <td>...</td>\n",
              "      <td>...</td>\n",
              "      <td>...</td>\n",
              "      <td>...</td>\n",
              "      <td>...</td>\n",
              "      <td>...</td>\n",
              "      <td>...</td>\n",
              "    </tr>\n",
              "    <tr>\n",
              "      <th>2022-02-04</th>\n",
              "      <td>735.0</td>\n",
              "      <td>1082.714286</td>\n",
              "      <td>3611.821429</td>\n",
              "      <td>524883.142857</td>\n",
              "      <td>495213.321429</td>\n",
              "      <td>528042.0</td>\n",
              "      <td>420907.0</td>\n",
              "      <td>107135.0</td>\n",
              "    </tr>\n",
              "    <tr>\n",
              "      <th>2022-02-05</th>\n",
              "      <td>251.0</td>\n",
              "      <td>967.428571</td>\n",
              "      <td>3456.571429</td>\n",
              "      <td>525850.571429</td>\n",
              "      <td>498669.892857</td>\n",
              "      <td>528293.0</td>\n",
              "      <td>425511.0</td>\n",
              "      <td>102782.0</td>\n",
              "    </tr>\n",
              "    <tr>\n",
              "      <th>2022-02-06</th>\n",
              "      <td>163.0</td>\n",
              "      <td>899.714286</td>\n",
              "      <td>3333.214286</td>\n",
              "      <td>526750.285714</td>\n",
              "      <td>502003.107143</td>\n",
              "      <td>528456.0</td>\n",
              "      <td>429142.0</td>\n",
              "      <td>99314.0</td>\n",
              "    </tr>\n",
              "    <tr>\n",
              "      <th>2022-02-07</th>\n",
              "      <td>182.0</td>\n",
              "      <td>694.428571</td>\n",
              "      <td>2993.500000</td>\n",
              "      <td>527444.714286</td>\n",
              "      <td>504996.607143</td>\n",
              "      <td>528638.0</td>\n",
              "      <td>438841.0</td>\n",
              "      <td>89797.0</td>\n",
              "    </tr>\n",
              "    <tr>\n",
              "      <th>2022-02-08</th>\n",
              "      <td>3.0</td>\n",
              "      <td>502.714286</td>\n",
              "      <td>2690.214286</td>\n",
              "      <td>527947.428571</td>\n",
              "      <td>507686.821429</td>\n",
              "      <td>528641.0</td>\n",
              "      <td>447346.0</td>\n",
              "      <td>81295.0</td>\n",
              "    </tr>\n",
              "  </tbody>\n",
              "</table>\n",
              "<p>696 rows × 8 columns</p>\n",
              "</div>\n",
              "      <button class=\"colab-df-convert\" onclick=\"convertToInteractive('df-d9a578a7-f0e4-409f-875f-b6ecd276f872')\"\n",
              "              title=\"Convert this dataframe to an interactive table.\"\n",
              "              style=\"display:none;\">\n",
              "        \n",
              "  <svg xmlns=\"http://www.w3.org/2000/svg\" height=\"24px\"viewBox=\"0 0 24 24\"\n",
              "       width=\"24px\">\n",
              "    <path d=\"M0 0h24v24H0V0z\" fill=\"none\"/>\n",
              "    <path d=\"M18.56 5.44l.94 2.06.94-2.06 2.06-.94-2.06-.94-.94-2.06-.94 2.06-2.06.94zm-11 1L8.5 8.5l.94-2.06 2.06-.94-2.06-.94L8.5 2.5l-.94 2.06-2.06.94zm10 10l.94 2.06.94-2.06 2.06-.94-2.06-.94-.94-2.06-.94 2.06-2.06.94z\"/><path d=\"M17.41 7.96l-1.37-1.37c-.4-.4-.92-.59-1.43-.59-.52 0-1.04.2-1.43.59L10.3 9.45l-7.72 7.72c-.78.78-.78 2.05 0 2.83L4 21.41c.39.39.9.59 1.41.59.51 0 1.02-.2 1.41-.59l7.78-7.78 2.81-2.81c.8-.78.8-2.07 0-2.86zM5.41 20L4 18.59l7.72-7.72 1.47 1.35L5.41 20z\"/>\n",
              "  </svg>\n",
              "      </button>\n",
              "      \n",
              "  <style>\n",
              "    .colab-df-container {\n",
              "      display:flex;\n",
              "      flex-wrap:wrap;\n",
              "      gap: 12px;\n",
              "    }\n",
              "\n",
              "    .colab-df-convert {\n",
              "      background-color: #E8F0FE;\n",
              "      border: none;\n",
              "      border-radius: 50%;\n",
              "      cursor: pointer;\n",
              "      display: none;\n",
              "      fill: #1967D2;\n",
              "      height: 32px;\n",
              "      padding: 0 0 0 0;\n",
              "      width: 32px;\n",
              "    }\n",
              "\n",
              "    .colab-df-convert:hover {\n",
              "      background-color: #E2EBFA;\n",
              "      box-shadow: 0px 1px 2px rgba(60, 64, 67, 0.3), 0px 1px 3px 1px rgba(60, 64, 67, 0.15);\n",
              "      fill: #174EA6;\n",
              "    }\n",
              "\n",
              "    [theme=dark] .colab-df-convert {\n",
              "      background-color: #3B4455;\n",
              "      fill: #D2E3FC;\n",
              "    }\n",
              "\n",
              "    [theme=dark] .colab-df-convert:hover {\n",
              "      background-color: #434B5C;\n",
              "      box-shadow: 0px 1px 3px 1px rgba(0, 0, 0, 0.15);\n",
              "      filter: drop-shadow(0px 1px 2px rgba(0, 0, 0, 0.3));\n",
              "      fill: #FFFFFF;\n",
              "    }\n",
              "  </style>\n",
              "\n",
              "      <script>\n",
              "        const buttonEl =\n",
              "          document.querySelector('#df-d9a578a7-f0e4-409f-875f-b6ecd276f872 button.colab-df-convert');\n",
              "        buttonEl.style.display =\n",
              "          google.colab.kernel.accessAllowed ? 'block' : 'none';\n",
              "\n",
              "        async function convertToInteractive(key) {\n",
              "          const element = document.querySelector('#df-d9a578a7-f0e4-409f-875f-b6ecd276f872');\n",
              "          const dataTable =\n",
              "            await google.colab.kernel.invokeFunction('convertToInteractive',\n",
              "                                                     [key], {});\n",
              "          if (!dataTable) return;\n",
              "\n",
              "          const docLinkHtml = 'Like what you see? Visit the ' +\n",
              "            '<a target=\"_blank\" href=https://colab.research.google.com/notebooks/data_table.ipynb>data table notebook</a>'\n",
              "            + ' to learn more about interactive tables.';\n",
              "          element.innerHTML = '';\n",
              "          dataTable['output_type'] = 'display_data';\n",
              "          await google.colab.output.renderOutput(dataTable, element);\n",
              "          const docLink = document.createElement('div');\n",
              "          docLink.innerHTML = docLinkHtml;\n",
              "          element.appendChild(docLink);\n",
              "        }\n",
              "      </script>\n",
              "    </div>\n",
              "  </div>\n",
              "  "
            ],
            "text/plain": [
              "                 Infected per day    7-day Avg  ...  Recovered  Number of Infected\n",
              "DateSpecCollect                                 ...                               \n",
              "2020-03-15                   11.0     9.714286  ...        0.0                87.0\n",
              "2020-03-16                   34.0    14.428571  ...        0.0               121.0\n",
              "2020-03-17                   42.0    20.142857  ...        0.0               163.0\n",
              "2020-03-18                   32.0    24.000000  ...        0.0               195.0\n",
              "2020-03-19                   51.0    29.714286  ...        0.0               246.0\n",
              "...                           ...          ...  ...        ...                 ...\n",
              "2022-02-04                  735.0  1082.714286  ...   420907.0            107135.0\n",
              "2022-02-05                  251.0   967.428571  ...   425511.0            102782.0\n",
              "2022-02-06                  163.0   899.714286  ...   429142.0             99314.0\n",
              "2022-02-07                  182.0   694.428571  ...   438841.0             89797.0\n",
              "2022-02-08                    3.0   502.714286  ...   447346.0             81295.0\n",
              "\n",
              "[696 rows x 8 columns]"
            ]
          },
          "metadata": {},
          "execution_count": 5
        }
      ]
    },
    {
      "cell_type": "code",
      "source": [
        "df_new.to_csv('/content/drive/MyDrive/UCI Conference/Dataset1/allData1.csv')"
      ],
      "metadata": {
        "id": "_fsCIb8S_Syx"
      },
      "execution_count": null,
      "outputs": []
    },
    {
      "cell_type": "code",
      "source": [
        "df_wave1 = df_new.loc['2020-04-01':'2020-09-30', :].copy()\n",
        "df_wave2 = df_new.loc['2020-10-01': '2021-03-31', :].copy()\n",
        "df_wave3 = df_new.loc['2021-07-01': '2021-10-31', :].copy()\n",
        "\n",
        "df_wave1.to_csv('/content/drive/MyDrive/UCI Conference/Dataset1/wave1Averaged_Nameer.csv')\n",
        "df_wave2.to_csv('/content/drive/MyDrive/UCI Conference/Dataset1/wave2Averaged_Nameer.csv')\n",
        "df_wave3.to_csv('/content/drive/MyDrive/UCI Conference/Dataset1/wave3Averaged_Nameer.csv')"
      ],
      "metadata": {
        "id": "Lfgt53gDnAR0"
      },
      "execution_count": null,
      "outputs": []
    },
    {
      "cell_type": "markdown",
      "source": [
        "# Plotting the Data"
      ],
      "metadata": {
        "id": "CbT_LD18B4n0"
      }
    },
    {
      "cell_type": "code",
      "source": [
        "def odes(x, t, a_param, k_param):\n",
        "  #constants\n",
        "  # a = 1/infection_rate\n",
        "  # k = 1/infectious_period\n",
        "  a = a_param\n",
        "  k = k_param\n",
        "\n",
        "  #assign each ODE to a vector element\n",
        "  S = x[0]\n",
        "  I = x[1]\n",
        "  R = x[2]\n",
        "\n",
        "  #define each ODE\n",
        "  dSdt = -a*S*I\n",
        "  dIdt = a*S*I - k*I\n",
        "  dRdt = k*I\n",
        "\n",
        "  return [dSdt, dIdt, dRdt]"
      ],
      "metadata": {
        "id": "ikNirwpuBg52"
      },
      "execution_count": null,
      "outputs": []
    },
    {
      "cell_type": "code",
      "source": [
        "test_a = 1/2.5\n",
        "test_k = 1/3\n",
        "\n",
        "print(test_a/test_k)"
      ],
      "metadata": {
        "id": "OO-BkcoO8E17",
        "colab": {
          "base_uri": "https://localhost:8080/"
        },
        "outputId": "a0f786ac-ef1d-41b2-cba5-3701dc746331"
      },
      "execution_count": null,
      "outputs": [
        {
          "output_type": "stream",
          "name": "stdout",
          "text": [
            "1.2000000000000002\n"
          ]
        }
      ]
    },
    {
      "cell_type": "code",
      "source": [
        "from uuid import NAMESPACE_OID\n",
        "\n",
        "#initial conditions\n",
        "N = 3186989\n",
        "I0 = 1/N\n",
        "S0 = 1. - I0\n",
        "R0 = 0.\n",
        "x0 = [S0, I0, R0]\n",
        "\n",
        "def wave1(a, k, wave):\n",
        "  #declare a time vector (time window)\n",
        "  size1 = wave.shape[0]\n",
        "  t = np.linspace(0, size1-1, size1)\n",
        "  #x = odeint(odes,x0,t, args=((1/2.5)+(0.01/2), (1/3)-0.01))\n",
        "\n",
        "  #Experimental\n",
        "  x = odeint(odes,x0,t, args=(a, k))\n",
        "\n",
        "  S = x[:,0]\n",
        "  I = x[:,1]\n",
        "  R = x[:,2]\n",
        "\n",
        "  y1_a = wave['Cumul. Infected for 7-day Avg'].to_numpy().copy()\n",
        "  y1_a /= N\n",
        "  y1_b = wave['Cumul. Infected for 28-day Avg'].to_numpy().copy()\n",
        "  y1_b /= N\n",
        "  y1_c = wave['Cumul. Infected'].to_numpy().copy()\n",
        "  y1_c.astype(float)\n",
        "  y1_c /= N\n",
        "  y1 = np.array([y1_a, y1_b, y1_c])\n",
        "\n",
        "  print(\"Max Infected peak: \", max(I))\n",
        "  fig1 = plt.figure(1); fig1.clf()\n",
        "  #plt.plot(t, S, 'g', lw=3, label='Suseptible')\n",
        "  plt.plot(t, I, 'r', lw=3, label='Infective')\n",
        "  #plt.plot(t, R, 'b', lw=3, label='Removed')\n",
        "  # plt.plot(t, y1[0], 'y', lw=3, label='Total Infected for 7-day Avg')\n",
        "  # plt.plot(t, y1[1], 'b', lw=3, label='Total Infected for 28-day Avg')\n",
        "  # plt.plot(t, y2[2], 'black', lw=3, label='Total Infected')\n",
        "  plt.scatter(t, y1[0], s=5, facecolors='none', edgecolors='y', label='Total Infected for 7-day Avg')\n",
        "  plt.scatter(t, y1[1], s=5, facecolors='none', edgecolors='b', label='Total Infected for 28-day Avg')\n",
        "  plt.scatter(t, y1[2], s=5, facecolors='none', edgecolors='black', label='Total Infected')\n",
        "  plt.axis([0, 125, 0, 0.015])\n",
        "\n",
        "  fig1.legend()\n",
        "  plt.xlabel('Time (days)')\n",
        "  plt.ylabel('Population')\n",
        "\n",
        "  return S, I, R\n",
        "\n",
        "const = 0.41\n",
        "a = 0.5 * const\n",
        "k = (1/4) * const\n",
        "\n",
        "S, I, R = wave1(a, k, df_wave1)\n",
        "R0 = a/k\n",
        "print(\"a = \", a)\n",
        "print(\"k = \", k)\n",
        "print(\"Rate = \", 1/a)\n",
        "print(\"Period = \", 1/k)\n",
        "print(\"R0 = \", R0)\n",
        "# print(\"S(120) = \", S[120])\n",
        "# print(\"I(120) = \", I[120])"
      ],
      "metadata": {
        "colab": {
          "base_uri": "https://localhost:8080/",
          "height": 235
        },
        "id": "tUvzGoJhCGF5",
        "outputId": "69469f2f-09a5-4adb-c21e-523a67909334"
      },
      "execution_count": null,
      "outputs": [
        {
          "output_type": "error",
          "ename": "NameError",
          "evalue": "ignored",
          "traceback": [
            "\u001b[0;31m---------------------------------------------------------------------------\u001b[0m",
            "\u001b[0;31mNameError\u001b[0m                                 Traceback (most recent call last)",
            "\u001b[0;32m<ipython-input-3-1deb4db2158c>\u001b[0m in \u001b[0;36m<module>\u001b[0;34m()\u001b[0m\n\u001b[1;32m     53\u001b[0m \u001b[0mk\u001b[0m \u001b[0;34m=\u001b[0m \u001b[0;34m(\u001b[0m\u001b[0;36m1\u001b[0m\u001b[0;34m/\u001b[0m\u001b[0;36m4\u001b[0m\u001b[0;34m)\u001b[0m \u001b[0;34m*\u001b[0m \u001b[0mconst\u001b[0m\u001b[0;34m\u001b[0m\u001b[0;34m\u001b[0m\u001b[0m\n\u001b[1;32m     54\u001b[0m \u001b[0;34m\u001b[0m\u001b[0m\n\u001b[0;32m---> 55\u001b[0;31m \u001b[0mS\u001b[0m\u001b[0;34m,\u001b[0m \u001b[0mI\u001b[0m\u001b[0;34m,\u001b[0m \u001b[0mR\u001b[0m \u001b[0;34m=\u001b[0m \u001b[0mwave1\u001b[0m\u001b[0;34m(\u001b[0m\u001b[0ma\u001b[0m\u001b[0;34m,\u001b[0m \u001b[0mk\u001b[0m\u001b[0;34m,\u001b[0m \u001b[0mdf_wave1\u001b[0m\u001b[0;34m)\u001b[0m\u001b[0;34m\u001b[0m\u001b[0;34m\u001b[0m\u001b[0m\n\u001b[0m\u001b[1;32m     56\u001b[0m \u001b[0mR0\u001b[0m \u001b[0;34m=\u001b[0m \u001b[0ma\u001b[0m\u001b[0;34m/\u001b[0m\u001b[0mk\u001b[0m\u001b[0;34m\u001b[0m\u001b[0;34m\u001b[0m\u001b[0m\n\u001b[1;32m     57\u001b[0m \u001b[0mprint\u001b[0m\u001b[0;34m(\u001b[0m\u001b[0;34m\"a = \"\u001b[0m\u001b[0;34m,\u001b[0m \u001b[0ma\u001b[0m\u001b[0;34m)\u001b[0m\u001b[0;34m\u001b[0m\u001b[0;34m\u001b[0m\u001b[0m\n",
            "\u001b[0;31mNameError\u001b[0m: name 'df_wave1' is not defined"
          ]
        }
      ]
    },
    {
      "cell_type": "code",
      "source": [
        "from uuid import NAMESPACE_OID\n",
        "\n",
        "#initial conditions\n",
        "#N = 3186989\n",
        "N = 1000\n",
        "I0 = 5/N\n",
        "S0 = 1. - I0\n",
        "R0 = 0.\n",
        "x0 = [S0, I0, R0]\n",
        "\n",
        "t = np.linspace(0, 10,100)\n",
        "a, k = 6, 1.5\n",
        "x = odeint(odes,x0,t, args=(a,k))\n",
        "\n",
        "S = x[:,0]\n",
        "I = x[:,1]\n",
        "R = x[:,2]\n",
        "\n",
        "fig1 = plt.figure(1); fig1.clf()\n",
        "plt.plot(t, S, 'g', lw=3, label='Suseptible')\n",
        "plt.plot(t, I, 'r', lw=3, label='Infective')\n",
        "plt.plot(t, R, 'b', lw=3, label='Removed')\n",
        "\n",
        "\n",
        "fig1.legend(loc=7)\n",
        "plt.title('Figure 3: SIR Curve for a mini-pandemic')\n",
        "plt.xlabel('Time (days)')\n",
        "plt.ylabel('Population')"
      ],
      "metadata": {
        "colab": {
          "base_uri": "https://localhost:8080/",
          "height": 235
        },
        "id": "-OMMFFTrBL_G",
        "outputId": "ee1fc66a-a278-4064-8111-805a757d4fcf"
      },
      "execution_count": null,
      "outputs": [
        {
          "output_type": "error",
          "ename": "NameError",
          "evalue": "ignored",
          "traceback": [
            "\u001b[0;31m---------------------------------------------------------------------------\u001b[0m",
            "\u001b[0;31mNameError\u001b[0m                                 Traceback (most recent call last)",
            "\u001b[0;32m<ipython-input-1-feffade2f8e6>\u001b[0m in \u001b[0;36m<cell line: 11>\u001b[0;34m()\u001b[0m\n\u001b[1;32m      9\u001b[0m \u001b[0mx0\u001b[0m \u001b[0;34m=\u001b[0m \u001b[0;34m[\u001b[0m\u001b[0mS0\u001b[0m\u001b[0;34m,\u001b[0m \u001b[0mI0\u001b[0m\u001b[0;34m,\u001b[0m \u001b[0mR0\u001b[0m\u001b[0;34m]\u001b[0m\u001b[0;34m\u001b[0m\u001b[0;34m\u001b[0m\u001b[0m\n\u001b[1;32m     10\u001b[0m \u001b[0;34m\u001b[0m\u001b[0m\n\u001b[0;32m---> 11\u001b[0;31m \u001b[0mt\u001b[0m \u001b[0;34m=\u001b[0m \u001b[0mnp\u001b[0m\u001b[0;34m.\u001b[0m\u001b[0mlinspace\u001b[0m\u001b[0;34m(\u001b[0m\u001b[0;36m0\u001b[0m\u001b[0;34m,\u001b[0m \u001b[0;36m10\u001b[0m\u001b[0;34m,\u001b[0m\u001b[0;36m100\u001b[0m\u001b[0;34m)\u001b[0m\u001b[0;34m\u001b[0m\u001b[0;34m\u001b[0m\u001b[0m\n\u001b[0m\u001b[1;32m     12\u001b[0m \u001b[0ma\u001b[0m\u001b[0;34m,\u001b[0m \u001b[0mk\u001b[0m \u001b[0;34m=\u001b[0m \u001b[0;36m6\u001b[0m\u001b[0;34m,\u001b[0m \u001b[0;36m1.5\u001b[0m\u001b[0;34m\u001b[0m\u001b[0;34m\u001b[0m\u001b[0m\n\u001b[1;32m     13\u001b[0m \u001b[0mx\u001b[0m \u001b[0;34m=\u001b[0m \u001b[0modeint\u001b[0m\u001b[0;34m(\u001b[0m\u001b[0modes\u001b[0m\u001b[0;34m,\u001b[0m\u001b[0mx0\u001b[0m\u001b[0;34m,\u001b[0m\u001b[0mt\u001b[0m\u001b[0;34m,\u001b[0m \u001b[0margs\u001b[0m\u001b[0;34m=\u001b[0m\u001b[0;34m(\u001b[0m\u001b[0ma\u001b[0m\u001b[0;34m,\u001b[0m\u001b[0mk\u001b[0m\u001b[0;34m)\u001b[0m\u001b[0;34m)\u001b[0m\u001b[0;34m\u001b[0m\u001b[0;34m\u001b[0m\u001b[0m\n",
            "\u001b[0;31mNameError\u001b[0m: name 'np' is not defined"
          ]
        }
      ]
    },
    {
      "cell_type": "code",
      "source": [
        "S"
      ],
      "metadata": {
        "id": "TEaye4cWHo8j",
        "outputId": "c65ef72f-50b4-4be2-dee6-926ebe481c00",
        "colab": {
          "base_uri": "https://localhost:8080/"
        }
      },
      "execution_count": null,
      "outputs": [
        {
          "output_type": "execute_result",
          "data": {
            "text/plain": [
              "array([0.99      , 0.98246323, 0.97083399, 0.95311546, 0.9266312 ,\n",
              "       0.88815242, 0.83447894, 0.76368025, 0.67678881, 0.57893476,\n",
              "       0.47856058, 0.38458475, 0.30335331, 0.23738291, 0.18607191,\n",
              "       0.14718353, 0.11806787, 0.09632051, 0.08000913, 0.06767507,\n",
              "       0.05825203, 0.05097163, 0.0452823 , 0.04078701, 0.03719801,\n",
              "       0.03430487, 0.03195212, 0.03002356, 0.02843143, 0.02710867,\n",
              "       0.0260035 , 0.02507552, 0.02429287, 0.02363026, 0.02306734,\n",
              "       0.0225877 , 0.02217795, 0.02182711, 0.0215261 , 0.02126739,\n",
              "       0.0210447 , 0.02085277, 0.02068715, 0.02054408, 0.0204204 ,\n",
              "       0.02031339, 0.02022074, 0.02014048, 0.02007091, 0.02001059,\n",
              "       0.01995826, 0.01991286, 0.01987345, 0.01983923, 0.01980952,\n",
              "       0.01978371, 0.01976129, 0.01974181, 0.01972488, 0.01971017,\n",
              "       0.01969739, 0.01968627, 0.01967661, 0.01966822, 0.01966092,\n",
              "       0.01965457, 0.01964905, 0.01964425, 0.01964008, 0.01963645,\n",
              "       0.0196333 , 0.01963056, 0.01962817, 0.0196261 , 0.01962429,\n",
              "       0.01962272, 0.01962136, 0.01962017, 0.01961914, 0.01961825,\n",
              "       0.01961747, 0.01961679, 0.0196162 , 0.01961568, 0.01961524,\n",
              "       0.01961485, 0.01961451, 0.01961422, 0.01961396, 0.01961374,\n",
              "       0.01961355, 0.01961338, 0.01961324, 0.01961311, 0.019613  ,\n",
              "       0.0196129 , 0.01961282, 0.01961275, 0.01961268, 0.01961263])"
            ]
          },
          "metadata": {},
          "execution_count": 6
        }
      ]
    },
    {
      "cell_type": "code",
      "source": [
        "max(I)"
      ],
      "metadata": {
        "colab": {
          "base_uri": "https://localhost:8080/"
        },
        "id": "AlfLBXzfGTyK",
        "outputId": "771d6a16-c382-4008-f919-b84408026a47"
      },
      "execution_count": null,
      "outputs": [
        {
          "output_type": "execute_result",
          "data": {
            "text/plain": [
              "0.40363255583940305"
            ]
          },
          "metadata": {},
          "execution_count": 13
        }
      ]
    },
    {
      "cell_type": "code",
      "source": [
        "S[-1]"
      ],
      "metadata": {
        "colab": {
          "base_uri": "https://localhost:8080/"
        },
        "id": "N6YRak7fGVcr",
        "outputId": "fc6446ad-0d4b-426d-9cb8-70dc8f5674f8"
      },
      "execution_count": null,
      "outputs": [
        {
          "output_type": "execute_result",
          "data": {
            "text/plain": [
              "0.019720245329404824"
            ]
          },
          "metadata": {},
          "execution_count": 19
        }
      ]
    },
    {
      "cell_type": "code",
      "source": [
        "kx = (a/k)*S[0]\n",
        "y = k/a\n",
        "1 - y*(1+np.log(x))"
      ],
      "metadata": {
        "colab": {
          "base_uri": "https://localhost:8080/"
        },
        "id": "fJzI8tOOsPih",
        "outputId": "6857130d-b453-4505-e22a-127562833600"
      },
      "execution_count": null,
      "outputs": [
        {
          "output_type": "execute_result",
          "data": {
            "text/plain": [
              "0.40342648816398785"
            ]
          },
          "metadata": {},
          "execution_count": 6
        }
      ]
    },
    {
      "cell_type": "code",
      "source": [
        "\n",
        "#initial conditions\n",
        "N = 3186989\n",
        "I0 = 1/N\n",
        "S0 = 1. - I0\n",
        "R0 = 0.\n",
        "x0 = [S0, I0, R0]\n",
        "\n",
        "def wave_infected(a, k, wave):\n",
        "  #declare a time vector (time window)\n",
        "  size1 = wave.shape[0]\n",
        "  t = np.linspace(0, size1-1, size1)\n",
        "  #x = odeint(odes,x0,t, args=((1/2.5)+(0.01/2), (1/3)-0.01))\n",
        "\n",
        "  #Experimental\n",
        "  x = odeint(odes,x0,t, args=(a, k))\n",
        "\n",
        "  S = x[:,0]\n",
        "  I = x[:,1]\n",
        "  R = x[:,2]\n",
        "\n",
        "  to_plot = wave['Number of Infected'].to_numpy().copy()\n",
        "  to_plot /= N\n",
        "\n",
        "  print(\"Max Infected peak: \", max(I))\n",
        "  fig1 = plt.figure(1); fig1.clf()\n",
        "  #plt.plot(t, S, 'g', lw=3, label='Suseptible')\n",
        "  plt.plot(t, I, 'r', lw=3, label='Infective')\n",
        "  #plt.plot(t, R, 'b', lw=3, label='Removed')\n",
        "  # plt.plot(t, y1[0], 'y', lw=3, label='Total Infected for 7-day Avg')\n",
        "  # plt.plot(t, y1[1], 'b', lw=3, label='Total Infected for 28-day Avg')\n",
        "  # plt.plot(t, y2[2], 'black', lw=3, label='Total Infected')\n",
        "  plt.scatter(t, to_plot, s=5, facecolors='none', edgecolors='y', label='Number of Infected')\n",
        "  plt.axis([0, 125, 0, 0.015])\n",
        "\n",
        "  fig1.legend()\n",
        "  plt.xlabel('Time (days)')\n",
        "  plt.ylabel('Population')\n",
        "\n",
        "  return S, I, R\n",
        "\n",
        "const = 1.9\n",
        "a = (1/3.25) * const\n",
        "k = (1/4) * const\n",
        "\n",
        "S, I, R = wave_infected(a, k, df_wave1)\n",
        "R0 = a/k\n",
        "print(\"a = \", a)\n",
        "print(\"k = \", k)\n",
        "print(\"Rate = \", 1/a)\n",
        "print(\"Period = \", 1/k)\n",
        "print(\"R0 = \", R0)"
      ],
      "metadata": {
        "colab": {
          "base_uri": "https://localhost:8080/",
          "height": 413
        },
        "id": "UaykbP1DwN2R",
        "outputId": "1caf2105-529e-4aba-b7c9-6d506696d29d"
      },
      "execution_count": null,
      "outputs": [
        {
          "output_type": "stream",
          "name": "stdout",
          "text": [
            "Max Infected peak:  0.018792155494688486\n",
            "a =  0.5846153846153846\n",
            "k =  0.475\n",
            "Rate =  1.7105263157894737\n",
            "Period =  2.1052631578947367\n",
            "R0 =  1.2307692307692308\n"
          ]
        },
        {
          "output_type": "display_data",
          "data": {
            "image/png": "[encoded data removed]",
            "text/plain": [
              "<Figure size 432x288 with 1 Axes>"
            ]
          },
          "metadata": {
            "needs_background": "light"
          }
        }
      ]
    },
    {
      "cell_type": "code",
      "source": [
        "df_wave2"
      ],
      "metadata": {
        "id": "pNQvm7YjUVe0"
      },
      "execution_count": null,
      "outputs": []
    },
    {
      "cell_type": "code",
      "source": [
        "const = 1.2\n",
        "a, k = const * 1/4.2, const * 1/11\n",
        "S, I, R = wave1(a, k, df_wave2)\n",
        "R0 = a/k\n",
        "print(\"a = \", a)\n",
        "print(\"k = \", k)\n",
        "print(\"Rate = \", 1/a)\n",
        "print(\"k = \", 1/k)\n",
        "print(\"R0 = \", R0)"
      ],
      "metadata": {
        "colab": {
          "base_uri": "https://localhost:8080/",
          "height": 413
        },
        "id": "tKj9bymaTQ_0",
        "outputId": "aa29b343-ace7-4b16-9919-0a2f4ff41107"
      },
      "execution_count": null,
      "outputs": [
        {
          "output_type": "stream",
          "name": "stdout",
          "text": [
            "Max Infected peak:  0.25035150487453306\n",
            "a =  0.2857142857142857\n",
            "k =  0.10909090909090909\n",
            "Rate =  3.5\n",
            "k =  9.166666666666668\n",
            "R0 =  2.619047619047619\n"
          ]
        },
        {
          "output_type": "display_data",
          "data": {
            "image/png": "[encoded data removed]",
            "text/plain": [
              "<Figure size 432x288 with 1 Axes>"
            ]
          },
          "metadata": {
            "needs_background": "light"
          }
        }
      ]
    },
    {
      "cell_type": "markdown",
      "source": [
        "# Wave 1, Wave 2, Wave 3, Wave 4 (Daily Cases)"
      ],
      "metadata": {
        "id": "EkSm6jIYF0N_"
      }
    },
    {
      "cell_type": "code",
      "source": [
        "from uuid import NAMESPACE_OID\n",
        "\n",
        "#initial conditions\n",
        "N = 3186989\n",
        "I0 = 1/N\n",
        "S0 = 1. - I0\n",
        "R0 = 0.\n",
        "x0 = [S0, I0, R0]\n",
        "\n",
        "def daily_wave(a, k, wave):\n",
        "  #declare a time vector (time window)\n",
        "  size1 = wave.shape[0] + 120\n",
        "  t = np.linspace(0, size1-1, size1)\n",
        "  #x = odeint(odes,x0,t, args=((1/2.5)+(0.01/2), (1/3)-0.01))\n",
        "\n",
        "  #Experimental\n",
        "  x = odeint(odes,x0,t, args=(a, k))\n",
        "\n",
        "  S = x[:,0]\n",
        "  I = x[:,1]\n",
        "  R = x[:,2]\n",
        "\n",
        "  y1_a = wave['7-day Avg'].to_numpy().copy()\n",
        "  y1_a /= N\n",
        "  y1_a = list(y1_a)\n",
        "  y1_a = [0.0 for i in range(60)] + y1_a + [0.0 for i in range(60)]\n",
        "\n",
        "  y1_b = wave['28-day Avg'].to_numpy().copy()\n",
        "  y1_b /= N\n",
        "  y1_b = list(y1_b)\n",
        "  y1_b = [0.0 for i in range(60)] + y1_b + [0.0 for i in range(60)]\n",
        "\n",
        "  y1_c = wave['Infected per day'].to_numpy().copy()\n",
        "  y1_c.astype(float)\n",
        "  y1_c /= N\n",
        "  y1_c = list(y1_c)\n",
        "  y1_c = [0.0 for i in range(60)] + y1_c + [0.0 for i in range(60)]\n",
        "  print(y1_c)\n",
        "\n",
        "  y1 = np.array([y1_a, y1_b, y1_c])\n",
        "\n",
        "  print(\"Max Infected peak: \", max(I))\n",
        "  fig1 = plt.figure(1); fig1.clf()\n",
        "  #plt.plot(t, S, 'g', lw=3, label='Suseptible')\n",
        "  #plt.plot(t, I, 'r', lw=3, label='Infective')\n",
        "\n",
        "  # I = list(I)\n",
        "  # I = [0 for i in range(60)] + I + [0 for i in range(60)]\n",
        "  # print(I)\n",
        "  # t = list(t)\n",
        "  # t = [(i+0.0) for i in range(60)] + [(60.0+i) for i in t] + [(i+183.0+60.0) for i in range(60)]\n",
        "\n",
        "  print(t)\n",
        "  plt.plot(t, I, 'r', lw=3, label='Infective')\n",
        "  #plt.plot(t, R, 'b', lw=3, label='Removed')\n",
        "  # plt.plot(t, y1[0], 'y', lw=3, label='Total Infected for 7-day Avg')\n",
        "  # plt.plot(t, y1[1], 'b', lw=3, label='Total Infected for 28-day Avg')\n",
        "  # plt.plot(t, y2[2], 'black', lw=3, label='Total Infected')\n",
        "  plt.scatter(t, y1[0], s=5, facecolors='none', edgecolors='y', label='Total Infected for 7-day Avg')\n",
        "  plt.scatter(t, y1[1], s=5, facecolors='none', edgecolors='b', label='Total Infected for 28-day Avg')\n",
        "  plt.scatter(t, y1[2], s=5, facecolors='none', edgecolors='black', label='Total Infected')\n",
        "  # plt.axis([0, 125, 0, 0.015])\n",
        "\n",
        "  fig1.legend()\n",
        "  plt.xlabel('Time (days)')\n",
        "  plt.ylabel('Population')\n",
        "\n",
        "  return S, I, R"
      ],
      "metadata": {
        "id": "JcT5W2ZmFy_n"
      },
      "execution_count": null,
      "outputs": []
    },
    {
      "cell_type": "code",
      "source": [
        "a, k = 1/17, 1/21\n",
        "print(\"Rate = \", 1/a)\n",
        "print(\"Period = \", 1/k)\n",
        "S, I, R = daily_wave(a, k, df_wave1)"
      ],
      "metadata": {
        "colab": {
          "base_uri": "https://localhost:8080/",
          "height": 780
        },
        "id": "1kXNZZfPFyyn",
        "outputId": "66566884-069f-4cf6-80c7-f421a6ed852f"
      },
      "execution_count": null,
      "outputs": [
        {
          "output_type": "stream",
          "name": "stdout",
          "text": [
            "Rate =  17.0\n",
            "Period =  21.0\n",
            "[0.0, 0.0, 0.0, 0.0, 0.0, 0.0, 0.0, 0.0, 0.0, 0.0, 0.0, 0.0, 0.0, 0.0, 0.0, 0.0, 0.0, 0.0, 0.0, 0.0, 0.0, 0.0, 0.0, 0.0, 0.0, 0.0, 0.0, 0.0, 0.0, 0.0, 0.0, 0.0, 0.0, 0.0, 0.0, 0.0, 0.0, 0.0, 0.0, 0.0, 0.0, 0.0, 0.0, 0.0, 0.0, 0.0, 0.0, 0.0, 0.0, 0.0, 0.0, 0.0, 0.0, 0.0, 0.0, 0.0, 0.0, 0.0, 0.0, 0.0, 2.290563287165409e-05, 1.6002565430881624e-05, 2.0081650736792627e-05, 9.09949799010916e-06, 1.0040825368396313e-05, 1.6630117016406396e-05, 1.8512771772980703e-05, 1.7571444394693548e-05, 1.4433686467069702e-05, 1.4433686467069702e-05, 7.84439481905962e-06, 5.961740062485312e-06, 1.7885220187455934e-05, 2.1964305493366937e-05, 3.0122476105188942e-05, 2.2591857078891705e-05, 2.2591857078891705e-05, 1.2551031710495392e-05, 7.84439481905962e-06, 2.1964305493366937e-05, 2.1964305493366937e-05, 3.859442250977333e-05, 2.541583921375317e-05, 2.7612269763089863e-05, 1.819899598021832e-05, 1.4747462259832086e-05, 4.047707726634764e-05, 5.1773005805793496e-05, 3.953574988806049e-05, 3.859442250977333e-05, 3.388778561833756e-05, 1.694389280916878e-05, 1.9140323358505472e-05, 5.491076373341734e-05, 3.608421616767425e-05, 5.679341848999165e-05, 5.1459230013031106e-05, 6.0244952210377884e-05, 2.9808700312426556e-05, 1.3178583296020163e-05, 4.392861098673387e-05, 3.92219740952981e-05, 4.832147208540726e-05, 4.2673507815684336e-05, 5.4596987940654954e-05, 3.577044037491187e-05, 1.631634122364401e-05, 6.212760696695219e-05, 4.7380144707120104e-05, 5.961740062485311e-05, 5.020412684198157e-05, 5.208678159855588e-05, 3.137757927623848e-05, 2.3846960249941247e-05, 2.1336753907842168e-05, 7.813017239783381e-05, 6.746179544391273e-05, 6.903067440772466e-05, 5.208678159855588e-05, 4.110462885187241e-05, 3.29464582400504e-05, 6.0872503795902656e-05, 6.620669227286319e-05, 7.028577757877419e-05, 6.840312282219988e-05, 6.557914068733842e-05, 4.643881732883295e-05, 3.765309513148618e-05, 8.346436087479436e-05, 7.467863867744759e-05, 8.315058508203198e-05, 9.256385886490351e-05, 8.69158945951806e-05, 7.028577757877419e-05, 4.643881732883295e-05, 0.00011327306118722091, 0.00016598739437130157, 0.0001819899598021832, 0.00020332671371002536, 0.0002212119338974813, 0.00014747462259832086, 8.754344618070536e-05, 0.00027612269763089864, 0.00032256151495973156, 0.0003329161161208903, 0.00031691355069000867, 0.0003115793622130481, 0.00019548231889096574, 0.00014182665832859794, 0.0003278957034366921, 0.00033071968557155356, 0.00030750027690713713, 0.00029212526306178027, 0.00023941092987769962, 0.0001135868369799833, 0.0001317858329602016, 0.00032726815185116735, 0.0003326023403281279, 0.0003247579455090683, 0.00030938293166371143, 0.00030624517373608755, 0.00017885220187455935, 0.00011546949173655762, 0.0002808293345223344, 0.00027298493970327476, 0.0002726711639105124, 0.0002582374774434427, 0.00024474511835466015, 0.00012864807503257776, 9.69567199635769e-05, 0.0001735180133975988, 0.00018324506297323273, 0.0001713215828482621, 0.00015782922375947957, 0.00015563279321014286, 9.256385886490351e-05, 7.185465654258612e-05, 0.00015657412058843, 0.00014778839839108324, 0.00015720167217395478, 0.0001424542099141227, 0.00014590574363450894, 8.409191246031913e-05, 6.306893434523935e-05, 0.00012645164448324108, 0.00014559196784174656, 0.00012864807503257776, 0.00011672459490760715, 0.00010009447789120075, 5.616586690446688e-05, 3.388778561833756e-05, 9.193630727937875e-05, 0.00010574244216092368, 8.032660294717051e-05, 0.00010072202947672552, 9.09949799010916e-05, 4.7380144707120104e-05, 2.6670942384802708e-05, 7.310975971363566e-05, 7.938527556888336e-05, 8.503323983860629e-05, 7.499241447020997e-05, 8.534701563136867e-05, 4.6125041536070566e-05, 3.106380348347609e-05, 7.091332916429897e-05, 7.373731129916043e-05, 6.40102617235265e-05, 6.683424385838797e-05, 5.208678159855588e-05, 3.29464582400504e-05, 2.2278081286129323e-05, 6.746179544391273e-05, 6.934445020048704e-05, 5.5224539526179726e-05, 6.997200178601181e-05, 6.40102617235265e-05, 3.3574009825575175e-05, 2.102297811507978e-05, 1.8512771772980703e-05, 6.80893470294375e-05, 5.1773005805793496e-05, 6.432403751628888e-05, 5.3655660562367806e-05, 3.451533720386233e-05, 2.8553597141377018e-05, 5.616586690446688e-05, 5.930362483209073e-05, 5.6479642697229264e-05, 6.432403751628888e-05, 5.4596987940654954e-05, 4.4556162572258645e-05, 2.9181148726901787e-05, 6.934445020048704e-05, 7.656129343402189e-05, 8.25230334965072e-05, 8.28368092892696e-05, 7.21684323353485e-05, 3.1691355069000866e-05, 3.106380348347609e-05, 7.593374184849712e-05, 8.064037873993289e-05, 6.80893470294375e-05, 0.0, 0.0, 0.0, 0.0, 0.0, 0.0, 0.0, 0.0, 0.0, 0.0, 0.0, 0.0, 0.0, 0.0, 0.0, 0.0, 0.0, 0.0, 0.0, 0.0, 0.0, 0.0, 0.0, 0.0, 0.0, 0.0, 0.0, 0.0, 0.0, 0.0, 0.0, 0.0, 0.0, 0.0, 0.0, 0.0, 0.0, 0.0, 0.0, 0.0, 0.0, 0.0, 0.0, 0.0, 0.0, 0.0, 0.0, 0.0, 0.0, 0.0, 0.0, 0.0, 0.0, 0.0, 0.0, 0.0, 0.0, 0.0, 0.0, 0.0]\n",
            "Max Infected peak:  9.300835596410741e-06\n",
            "[  0.   1.   2.   3.   4.   5.   6.   7.   8.   9.  10.  11.  12.  13.\n",
            "  14.  15.  16.  17.  18.  19.  20.  21.  22.  23.  24.  25.  26.  27.\n",
            "  28.  29.  30.  31.  32.  33.  34.  35.  36.  37.  38.  39.  40.  41.\n",
            "  42.  43.  44.  45.  46.  47.  48.  49.  50.  51.  52.  53.  54.  55.\n",
            "  56.  57.  58.  59.  60.  61.  62.  63.  64.  65.  66.  67.  68.  69.\n",
            "  70.  71.  72.  73.  74.  75.  76.  77.  78.  79.  80.  81.  82.  83.\n",
            "  84.  85.  86.  87.  88.  89.  90.  91.  92.  93.  94.  95.  96.  97.\n",
            "  98.  99. 100. 101. 102. 103. 104. 105. 106. 107. 108. 109. 110. 111.\n",
            " 112. 113. 114. 115. 116. 117. 118. 119. 120. 121. 122. 123. 124. 125.\n",
            " 126. 127. 128. 129. 130. 131. 132. 133. 134. 135. 136. 137. 138. 139.\n",
            " 140. 141. 142. 143. 144. 145. 146. 147. 148. 149. 150. 151. 152. 153.\n",
            " 154. 155. 156. 157. 158. 159. 160. 161. 162. 163. 164. 165. 166. 167.\n",
            " 168. 169. 170. 171. 172. 173. 174. 175. 176. 177. 178. 179. 180. 181.\n",
            " 182. 183. 184. 185. 186. 187. 188. 189. 190. 191. 192. 193. 194. 195.\n",
            " 196. 197. 198. 199. 200. 201. 202. 203. 204. 205. 206. 207. 208. 209.\n",
            " 210. 211. 212. 213. 214. 215. 216. 217. 218. 219. 220. 221. 222. 223.\n",
            " 224. 225. 226. 227. 228. 229. 230. 231. 232. 233. 234. 235. 236. 237.\n",
            " 238. 239. 240. 241. 242. 243. 244. 245. 246. 247. 248. 249. 250. 251.\n",
            " 252. 253. 254. 255. 256. 257. 258. 259. 260. 261. 262. 263. 264. 265.\n",
            " 266. 267. 268. 269. 270. 271. 272. 273. 274. 275. 276. 277. 278. 279.\n",
            " 280. 281. 282. 283. 284. 285. 286. 287. 288. 289. 290. 291. 292. 293.\n",
            " 294. 295. 296. 297. 298. 299. 300. 301. 302.]\n"
          ]
        },
        {
          "output_type": "display_data",
          "data": {
            "image/png": "[encoded data removed]",
            "text/plain": [
              "<Figure size 432x288 with 1 Axes>"
            ]
          },
          "metadata": {
            "needs_background": "light"
          }
        }
      ]
    },
    {
      "cell_type": "code",
      "source": [
        "a, k = 0.00001, 0.00001\n",
        "print(\"Rate = \", 1/a)\n",
        "print(\"Period = \", 1/k)\n",
        "S, I, R = daily_wave(a, k, df_wave2)"
      ],
      "metadata": {
        "colab": {
          "base_uri": "https://localhost:8080/",
          "height": 780
        },
        "id": "wI826khCFywT",
        "outputId": "f161b651-0fb0-4564-e4b3-4bff59a438ff"
      },
      "execution_count": null,
      "outputs": [
        {
          "output_type": "stream",
          "name": "stdout",
          "text": [
            "Rate =  99999.99999999999\n",
            "Period =  99999.99999999999\n",
            "[0.0, 0.0, 0.0, 0.0, 0.0, 0.0, 0.0, 0.0, 0.0, 0.0, 0.0, 0.0, 0.0, 0.0, 0.0, 0.0, 0.0, 0.0, 0.0, 0.0, 0.0, 0.0, 0.0, 0.0, 0.0, 0.0, 0.0, 0.0, 0.0, 0.0, 0.0, 0.0, 0.0, 0.0, 0.0, 0.0, 0.0, 0.0, 0.0, 0.0, 0.0, 0.0, 0.0, 0.0, 0.0, 0.0, 0.0, 0.0, 0.0, 0.0, 0.0, 0.0, 0.0, 0.0, 0.0, 0.0, 0.0, 0.0, 0.0, 0.0, 6.150005538142742e-05, 6.40102617235265e-05, 3.5456664582149485e-05, 2.8239821348614632e-05, 6.714801965115035e-05, 7.091332916429897e-05, 7.028577757877419e-05, 7.62475176412595e-05, 6.244138275971458e-05, 4.33010594012091e-05, 2.6670942384802708e-05, 7.059955337153659e-05, 7.969905136164574e-05, 7.059955337153659e-05, 7.185465654258612e-05, 6.683424385838797e-05, 4.4242386779496256e-05, 3.608421616767425e-05, 8.503323983860629e-05, 8.377813666755674e-05, 9.570161679252737e-05, 7.656129343402189e-05, 7.342353550639805e-05, 5.1459230013031106e-05, 3.671176775319902e-05, 8.189548191098243e-05, 6.0244952210377884e-05, 8.942610093727967e-05, 8.66021188024182e-05, 7.310975971363566e-05, 5.961740062485311e-05, 4.204595623015956e-05, 0.00012143123179904292, 0.00012331388655561723, 0.00013680624564439976, 0.00014590574363450894, 0.0001424542099141227, 6.997200178601181e-05, 5.773474586827881e-05, 0.00016818382492063825, 0.0001713215828482621, 0.0001427679857068851, 0.00020238538633173821, 0.00021305376328565928, 0.0001615945332726282, 0.00013304093613125117, 0.00030750027690713713, 0.0003511151121011086, 0.00034421204466033613, 0.0003777860544859113, 0.00039190596516021863, 0.0002331354140224519, 0.00020897467797974828, 0.00043269681821932865, 0.0004901177882948451, 0.0004668983796304286, 0.00011735214649313191, 0.0003696278838740893, 0.0003655487985681783, 0.0002751813702526115, 0.0006573602858371962, 0.00062629648235372, 0.0006777557123667511, 0.000733921579271218, 0.0007791052934290015, 0.0005406356909295891, 0.000339191631976138, 0.0009579574953035608, 0.0010106718284876414, 0.0010448733898987413, 0.0009516819794483132, 0.0009344243108463819, 0.00061970719070571, 0.0004734876712784387, 0.0012161949727470035, 0.0013272716033848877, 0.001237845502447608, 0.001207723026342419, 0.0011019805841814955, 0.0007285873907942576, 0.00043928610986733875, 0.0011349270424215459, 0.0011289653023590605, 0.00113022040553011, 0.0006626944743141568, 0.00022058438231195652, 0.0007289011665870199, 0.000479449411340924, 0.001417952807493217, 0.00151836106117718, 0.0013705726627860969, 0.0008380951424683298, 0.000296831899953216, 0.0008606869995472215, 0.0005393805877585394, 0.0013639833711380867, 0.0013900267619373647, 0.0013034246431349464, 0.0012438072425100934, 0.0009974932451916213, 0.0005864469566728972, 0.0003608421616767425, 0.0009535646342048875, 0.0009840008861028387, 0.00081707216435325, 0.0007536894542152483, 0.0006454368057122256, 0.0003937886199167929, 0.00025698237427239313, 0.0006476332362615623, 0.0006724215238897907, 0.0005792301134393623, 0.0005657377543505798, 0.0004910591156731323, 0.0002855359714137702, 0.0001901481304140052, 0.0004901177882948451, 0.00045560245109098276, 0.00039504372308784246, 0.0004022605663213773, 0.0003260130486801178, 0.0002143088664567088, 0.00014559196784174656, 0.00035676307637083155, 0.0003332298919136527, 0.00029275281464730504, 0.0002770640250091858, 0.00024505889414742254, 0.0001487297257693704, 0.00010636999374644845, 0.00021399509066394643, 0.0001656736185785392, 0.00015563279321014286, 0.00015594656900290525, 0.00012645164448324108, 8.848477355899251e-05, 5.428321214789257e-05, 0.00011013530325959707, 0.00012080368021351815, 0.00010919397588130991, 9.193630727937875e-05, 7.499241447020997e-05, 5.773474586827881e-05, 5.083167842750634e-05, 9.632916837805213e-05, 8.126793032545767e-05, 7.530619026297236e-05, 7.781639660507143e-05, 6.0558728003140266e-05, 4.047707726634764e-05, 3.388778561833756e-05, 6.683424385838797e-05, 6.526536489457604e-05, 4.894902367093203e-05, 5.396943635513019e-05, 4.769392049988249e-05, 3.231890665452564e-05, 2.416073604270363e-05, 5.240055739131826e-05, 5.5224539526179726e-05, 4.832147208540726e-05, 5.773474586827881e-05, 4.486993836502103e-05, 2.8867372934139404e-05, 1.8512771772980703e-05, 3.953574988806049e-05, 4.894902367093203e-05, 4.54974899505458e-05, 3.859442250977333e-05, 3.5456664582149485e-05, 2.8553597141377018e-05, 2.353318445717886e-05, 4.361483519397149e-05, 4.361483519397149e-05, 4.204595623015956e-05, 3.8280646717010943e-05, 3.984952568082287e-05, 1.6630117016406396e-05, 2.2278081286129323e-05, 4.486993836502103e-05, 4.0790853059110026e-05, 4.173218043739718e-05, 0.0, 0.0, 0.0, 0.0, 0.0, 0.0, 0.0, 0.0, 0.0, 0.0, 0.0, 0.0, 0.0, 0.0, 0.0, 0.0, 0.0, 0.0, 0.0, 0.0, 0.0, 0.0, 0.0, 0.0, 0.0, 0.0, 0.0, 0.0, 0.0, 0.0, 0.0, 0.0, 0.0, 0.0, 0.0, 0.0, 0.0, 0.0, 0.0, 0.0, 0.0, 0.0, 0.0, 0.0, 0.0, 0.0, 0.0, 0.0, 0.0, 0.0, 0.0, 0.0, 0.0, 0.0, 0.0, 0.0, 0.0, 0.0, 0.0, 0.0]\n",
            "Max Infected peak:  3.137757927623848e-07\n",
            "[  0.   1.   2.   3.   4.   5.   6.   7.   8.   9.  10.  11.  12.  13.\n",
            "  14.  15.  16.  17.  18.  19.  20.  21.  22.  23.  24.  25.  26.  27.\n",
            "  28.  29.  30.  31.  32.  33.  34.  35.  36.  37.  38.  39.  40.  41.\n",
            "  42.  43.  44.  45.  46.  47.  48.  49.  50.  51.  52.  53.  54.  55.\n",
            "  56.  57.  58.  59.  60.  61.  62.  63.  64.  65.  66.  67.  68.  69.\n",
            "  70.  71.  72.  73.  74.  75.  76.  77.  78.  79.  80.  81.  82.  83.\n",
            "  84.  85.  86.  87.  88.  89.  90.  91.  92.  93.  94.  95.  96.  97.\n",
            "  98.  99. 100. 101. 102. 103. 104. 105. 106. 107. 108. 109. 110. 111.\n",
            " 112. 113. 114. 115. 116. 117. 118. 119. 120. 121. 122. 123. 124. 125.\n",
            " 126. 127. 128. 129. 130. 131. 132. 133. 134. 135. 136. 137. 138. 139.\n",
            " 140. 141. 142. 143. 144. 145. 146. 147. 148. 149. 150. 151. 152. 153.\n",
            " 154. 155. 156. 157. 158. 159. 160. 161. 162. 163. 164. 165. 166. 167.\n",
            " 168. 169. 170. 171. 172. 173. 174. 175. 176. 177. 178. 179. 180. 181.\n",
            " 182. 183. 184. 185. 186. 187. 188. 189. 190. 191. 192. 193. 194. 195.\n",
            " 196. 197. 198. 199. 200. 201. 202. 203. 204. 205. 206. 207. 208. 209.\n",
            " 210. 211. 212. 213. 214. 215. 216. 217. 218. 219. 220. 221. 222. 223.\n",
            " 224. 225. 226. 227. 228. 229. 230. 231. 232. 233. 234. 235. 236. 237.\n",
            " 238. 239. 240. 241. 242. 243. 244. 245. 246. 247. 248. 249. 250. 251.\n",
            " 252. 253. 254. 255. 256. 257. 258. 259. 260. 261. 262. 263. 264. 265.\n",
            " 266. 267. 268. 269. 270. 271. 272. 273. 274. 275. 276. 277. 278. 279.\n",
            " 280. 281. 282. 283. 284. 285. 286. 287. 288. 289. 290. 291. 292. 293.\n",
            " 294. 295. 296. 297. 298. 299. 300. 301.]\n"
          ]
        },
        {
          "output_type": "display_data",
          "data": {
            "image/png": "[encoded data removed]",
            "text/plain": [
              "<Figure size 432x288 with 1 Axes>"
            ]
          },
          "metadata": {
            "needs_background": "light"
          }
        }
      ]
    },
    {
      "cell_type": "code",
      "source": [
        "a, k = 0.00001, 0.00001\n",
        "print(\"Rate = \", 1/a)\n",
        "print(\"Period = \", 1/k)\n",
        "S, I, R = daily_wave(a, k, df_wave3)"
      ],
      "metadata": {
        "colab": {
          "base_uri": "https://localhost:8080/",
          "height": 711
        },
        "id": "wvh2heK2Fytu",
        "outputId": "20dc6dd4-6828-4963-e468-291646b41fca"
      },
      "execution_count": null,
      "outputs": [
        {
          "output_type": "stream",
          "name": "stdout",
          "text": [
            "Rate =  99999.99999999999\n",
            "Period =  99999.99999999999\n",
            "[0.0, 0.0, 0.0, 0.0, 0.0, 0.0, 0.0, 0.0, 0.0, 0.0, 0.0, 0.0, 0.0, 0.0, 0.0, 0.0, 0.0, 0.0, 0.0, 0.0, 0.0, 0.0, 0.0, 0.0, 0.0, 0.0, 0.0, 0.0, 0.0, 0.0, 0.0, 0.0, 0.0, 0.0, 0.0, 0.0, 0.0, 0.0, 0.0, 0.0, 0.0, 0.0, 0.0, 0.0, 0.0, 0.0, 0.0, 0.0, 0.0, 0.0, 0.0, 0.0, 0.0, 0.0, 0.0, 0.0, 0.0, 0.0, 0.0, 0.0, 3.5142888789387096e-05, 3.7339319338723795e-05, 2.0081650736792627e-05, 1.03546011611587e-05, 3.796687092424856e-05, 5.428321214789257e-05, 6.306893434523935e-05, 7.21684323353485e-05, 5.742097007551642e-05, 5.8676073246565956e-05, 4.361483519397149e-05, 8.754344618070536e-05, 0.0001051148905753989, 9.883937472015121e-05, 0.00011076285484512183, 9.821182313462644e-05, 7.279598392087328e-05, 8.189548191098243e-05, 0.00013398226350953832, 0.00015469146583185571, 0.00016441851540748963, 0.00016630117016406396, 0.00018261751138770797, 0.00012456898972666676, 0.0001277067476542906, 0.0002230945886540556, 0.00020740579901593637, 0.00024223491201256106, 0.00026137523537106655, 0.00023125275926587762, 0.00018857925145019327, 0.00015845677534500433, 0.0002588650290289675, 0.0002667094238480271, 0.00023878337829217483, 0.0002754951460453739, 0.00025917880482172987, 0.0001675562733351135, 0.00017853842608179696, 0.0002767502492164234, 0.00030593139794332517, 0.00029212526306178027, 0.0002952630209894041, 0.00022999765609482806, 0.00015029860473318233, 0.0001261378686904787, 0.00025478594372305646, 0.00024349001518361062, 0.0002102297811507978, 0.00021179866011460975, 0.00021399509066394643, 0.0001317858329602016, 0.000128020523447053, 0.0002252910192033923, 0.00022623234658167944, 0.00019265833675610427, 0.00017038025546997496, 0.00015594656900290525, 0.00010825264850302276, 0.00010448733898987414, 0.0002102297811507978, 0.00020081650736792627, 0.0001979925252330648, 0.00016379096382196487, 0.000148415949976608, 9.821182313462644e-05, 7.279598392087328e-05, 7.907149977612098e-05, 0.00016441851540748963, 0.00013460981509506308, 0.0001424542099141227, 0.0001424542099141227, 8.377813666755674e-05, 7.907149977612098e-05, 0.00015312258686804377, 0.00013963022777926124, 0.00012990317820362732, 0.0001054286663681613, 0.0001277067476542906, 6.432403751628888e-05, 5.961740062485311e-05, 0.00011797969807865669, 0.00011672459490760715, 0.00010699754533197321, 9.978070209843837e-05, 9.72704957563393e-05, 6.118627958866504e-05, 4.54974899505458e-05, 0.00011264550960169614, 9.664294417081452e-05, 7.938527556888336e-05, 8.87985493517549e-05, 8.566079142413105e-05, 5.7107194282754036e-05, 4.769392049988249e-05, 9.005365252280444e-05, 8.722967038794298e-05, 8.817099776623013e-05, 7.813017239783381e-05, 8.158170611822005e-05, 4.581126574330818e-05, 4.392861098673387e-05, 8.754344618070536e-05, 7.750262081230905e-05, 8.817099776623013e-05, 6.871689861496228e-05, 6.557914068733842e-05, 4.2359732022921946e-05, 4.54974899505458e-05, 8.848477355899251e-05, 9.978070209843837e-05, 8.377813666755674e-05, 9.601539258528975e-05, 8.189548191098243e-05, 5.4596987940654954e-05, 5.8676073246565956e-05, 0.00010825264850302276, 0.00010040825368396314, 9.130875569385398e-05, 0.00010605621795368607, 9.225008307214113e-05, 6.620669227286319e-05, 4.14184046446348e-05, 0.0, 0.0, 0.0, 0.0, 0.0, 0.0, 0.0, 0.0, 0.0, 0.0, 0.0, 0.0, 0.0, 0.0, 0.0, 0.0, 0.0, 0.0, 0.0, 0.0, 0.0, 0.0, 0.0, 0.0, 0.0, 0.0, 0.0, 0.0, 0.0, 0.0, 0.0, 0.0, 0.0, 0.0, 0.0, 0.0, 0.0, 0.0, 0.0, 0.0, 0.0, 0.0, 0.0, 0.0, 0.0, 0.0, 0.0, 0.0, 0.0, 0.0, 0.0, 0.0, 0.0, 0.0, 0.0, 0.0, 0.0, 0.0, 0.0, 0.0]\n",
            "Max Infected peak:  3.137757927623848e-07\n",
            "[  0.   1.   2.   3.   4.   5.   6.   7.   8.   9.  10.  11.  12.  13.\n",
            "  14.  15.  16.  17.  18.  19.  20.  21.  22.  23.  24.  25.  26.  27.\n",
            "  28.  29.  30.  31.  32.  33.  34.  35.  36.  37.  38.  39.  40.  41.\n",
            "  42.  43.  44.  45.  46.  47.  48.  49.  50.  51.  52.  53.  54.  55.\n",
            "  56.  57.  58.  59.  60.  61.  62.  63.  64.  65.  66.  67.  68.  69.\n",
            "  70.  71.  72.  73.  74.  75.  76.  77.  78.  79.  80.  81.  82.  83.\n",
            "  84.  85.  86.  87.  88.  89.  90.  91.  92.  93.  94.  95.  96.  97.\n",
            "  98.  99. 100. 101. 102. 103. 104. 105. 106. 107. 108. 109. 110. 111.\n",
            " 112. 113. 114. 115. 116. 117. 118. 119. 120. 121. 122. 123. 124. 125.\n",
            " 126. 127. 128. 129. 130. 131. 132. 133. 134. 135. 136. 137. 138. 139.\n",
            " 140. 141. 142. 143. 144. 145. 146. 147. 148. 149. 150. 151. 152. 153.\n",
            " 154. 155. 156. 157. 158. 159. 160. 161. 162. 163. 164. 165. 166. 167.\n",
            " 168. 169. 170. 171. 172. 173. 174. 175. 176. 177. 178. 179. 180. 181.\n",
            " 182. 183. 184. 185. 186. 187. 188. 189. 190. 191. 192. 193. 194. 195.\n",
            " 196. 197. 198. 199. 200. 201. 202. 203. 204. 205. 206. 207. 208. 209.\n",
            " 210. 211. 212. 213. 214. 215. 216. 217. 218. 219. 220. 221. 222. 223.\n",
            " 224. 225. 226. 227. 228. 229. 230. 231. 232. 233. 234. 235. 236. 237.\n",
            " 238. 239. 240. 241. 242.]\n"
          ]
        },
        {
          "output_type": "display_data",
          "data": {
            "image/png": "[encoded data removed]",
            "text/plain": [
              "<Figure size 432x288 with 1 Axes>"
            ]
          },
          "metadata": {
            "needs_background": "light"
          }
        }
      ]
    },
    {
      "cell_type": "code",
      "source": [
        "#intersets at about t=124\n",
        "N2 = int(S[126] * N)\n",
        "N2"
      ],
      "metadata": {
        "colab": {
          "base_uri": "https://localhost:8080/"
        },
        "id": "pZetTo8-gXc8",
        "outputId": "4a99947e-8df9-48bb-a8e9-b6c992d1123c"
      },
      "execution_count": null,
      "outputs": [
        {
          "output_type": "execute_result",
          "data": {
            "text/plain": [
              "3186987"
            ]
          },
          "metadata": {},
          "execution_count": 55
        }
      ]
    },
    {
      "cell_type": "code",
      "source": [
        "t = np.linspace(0, df_new.shape[0] - 1, df_new.shape[0])\n",
        "to_plot = df_new['Number of Infected'].to_numpy().copy()\n",
        "to_plot /= N\n",
        "plt.plot(t, to_plot)"
      ],
      "metadata": {
        "id": "h_e-qeJHoiXF",
        "colab": {
          "base_uri": "https://localhost:8080/",
          "height": 283
        },
        "outputId": "38ed7703-8888-4e8a-8db8-ff90a4ad26ad"
      },
      "execution_count": null,
      "outputs": [
        {
          "output_type": "execute_result",
          "data": {
            "text/plain": [
              "[<matplotlib.lines.Line2D at 0x7fa091a5d250>]"
            ]
          },
          "metadata": {},
          "execution_count": 60
        },
        {
          "output_type": "display_data",
          "data": {
            "image/png": "[encoded data removed]",
            "text/plain": [
              "<Figure size 432x288 with 1 Axes>"
            ]
          },
          "metadata": {
            "needs_background": "light"
          }
        }
      ]
    },
    {
      "cell_type": "code",
      "source": [
        "np.log(np.exp(2))\n",
        "d = (1/120) * np.log(N*y1_a[120])\n",
        "test_k = 1/3\n",
        "test_a = test_k + d\n",
        "print(test_a)\n",
        "print(test_k)"
      ],
      "metadata": {
        "id": "O43yCJsB51Q6",
        "colab": {
          "base_uri": "https://localhost:8080/",
          "height": 238
        },
        "outputId": "b24cef56-35c1-48d6-b878-644581c0510c"
      },
      "execution_count": null,
      "outputs": [
        {
          "output_type": "error",
          "ename": "NameError",
          "evalue": "ignored",
          "traceback": [
            "\u001b[0;31m---------------------------------------------------------------------------\u001b[0m",
            "\u001b[0;31mNameError\u001b[0m                                 Traceback (most recent call last)",
            "\u001b[0;32m<ipython-input-57-df1d1f3e80f7>\u001b[0m in \u001b[0;36m<module>\u001b[0;34m()\u001b[0m\n\u001b[1;32m      1\u001b[0m \u001b[0mnp\u001b[0m\u001b[0;34m.\u001b[0m\u001b[0mlog\u001b[0m\u001b[0;34m(\u001b[0m\u001b[0mnp\u001b[0m\u001b[0;34m.\u001b[0m\u001b[0mexp\u001b[0m\u001b[0;34m(\u001b[0m\u001b[0;36m2\u001b[0m\u001b[0;34m)\u001b[0m\u001b[0;34m)\u001b[0m\u001b[0;34m\u001b[0m\u001b[0;34m\u001b[0m\u001b[0m\n\u001b[0;32m----> 2\u001b[0;31m \u001b[0md\u001b[0m \u001b[0;34m=\u001b[0m \u001b[0;34m(\u001b[0m\u001b[0;36m1\u001b[0m\u001b[0;34m/\u001b[0m\u001b[0;36m120\u001b[0m\u001b[0;34m)\u001b[0m \u001b[0;34m*\u001b[0m \u001b[0mnp\u001b[0m\u001b[0;34m.\u001b[0m\u001b[0mlog\u001b[0m\u001b[0;34m(\u001b[0m\u001b[0mN\u001b[0m\u001b[0;34m*\u001b[0m\u001b[0my1_a\u001b[0m\u001b[0;34m[\u001b[0m\u001b[0;36m120\u001b[0m\u001b[0;34m]\u001b[0m\u001b[0;34m)\u001b[0m\u001b[0;34m\u001b[0m\u001b[0;34m\u001b[0m\u001b[0m\n\u001b[0m\u001b[1;32m      3\u001b[0m \u001b[0mtest_k\u001b[0m \u001b[0;34m=\u001b[0m \u001b[0;36m1\u001b[0m\u001b[0;34m/\u001b[0m\u001b[0;36m3\u001b[0m\u001b[0;34m\u001b[0m\u001b[0;34m\u001b[0m\u001b[0m\n\u001b[1;32m      4\u001b[0m \u001b[0mtest_a\u001b[0m \u001b[0;34m=\u001b[0m \u001b[0mtest_k\u001b[0m \u001b[0;34m+\u001b[0m \u001b[0md\u001b[0m\u001b[0;34m\u001b[0m\u001b[0;34m\u001b[0m\u001b[0m\n\u001b[1;32m      5\u001b[0m \u001b[0mprint\u001b[0m\u001b[0;34m(\u001b[0m\u001b[0mtest_a\u001b[0m\u001b[0;34m)\u001b[0m\u001b[0;34m\u001b[0m\u001b[0;34m\u001b[0m\u001b[0m\n",
            "\u001b[0;31mNameError\u001b[0m: name 'y1_a' is not defined"
          ]
        }
      ]
    },
    {
      "cell_type": "code",
      "source": [
        "#higher a-value means higher peak but shorter pandemic\n",
        "#higher k-value means lower peak but longer pandemic"
      ],
      "metadata": {
        "id": "jTxQ5qis7qMh"
      },
      "execution_count": null,
      "outputs": []
    },
    {
      "cell_type": "code",
      "source": [
        "def wave2(a, k):\n",
        "  size2 = df_wave2.shape[0]\n",
        "  t = np.linspace(0, size2-1, size2)\n",
        "  x = odeint(odes,x0,t, args=(a, k))\n",
        "\n",
        "  S = x[:,0]\n",
        "  I = x[:,1]\n",
        "  R = x[:,2]\n",
        "\n",
        "  y2_a = df_wave2['Total Infected for 7-day Avg'].to_numpy().copy()\n",
        "  y2_a /= N2\n",
        "  y2_b = df_wave2['Total Infected for 28-day Avg'].to_numpy().copy()\n",
        "  y2_b /= N2\n",
        "  y2_c = df_wave2['Total Infected'].to_numpy().copy()\n",
        "  y2_c.astype(float)\n",
        "  y2_c /= N2\n",
        "  y2 = np.array([y2_a, y2_b, y2_c])\n",
        "\n",
        "  fig2 = plt.figure(1); fig2.clf()\n",
        "  #plt.plot(t, S, 'g', lw=3, label='Suseptible')\n",
        "  plt.plot(t, I, 'r', lw=3, label='Infective')\n",
        "  #plt.plot(t, R, 'b', lw=3, label='Removed')\n",
        "  plt.plot(t, y2[0], 'y', lw=3, label='7-day Avg')\n",
        "  plt.plot(t, y2[1], 'brown', lw=3, label='28-day Avg')\n",
        "  plt.plot(t, y2[2], 'm', lw=3, label='Raw Data')\n",
        "\n",
        "  fig2.legend()\n",
        "  plt.xlabel('Time (days)')\n",
        "  plt.ylabel('Population')\n",
        "\n",
        "  return S, I, R\n",
        "\n",
        "const = 0.35\n",
        "a = 0.7*const\n",
        "k = 0.3333333333333333*const\n",
        "S, I, R = wave2(a, k)\n",
        "R0 = a/k\n",
        "print(\"a = \", a)\n",
        "print(\"k = \", k)\n",
        "print(\"R0 = \", R0)\n",
        "print(\"Max = \", max(I))"
      ],
      "metadata": {
        "id": "xzdVlXHwXFFA",
        "colab": {
          "base_uri": "https://localhost:8080/",
          "height": 357
        },
        "outputId": "7a194c2b-403f-4673-e047-50c271db5735"
      },
      "execution_count": null,
      "outputs": [
        {
          "output_type": "error",
          "ename": "NameError",
          "evalue": "ignored",
          "traceback": [
            "\u001b[0;31m---------------------------------------------------------------------------\u001b[0m",
            "\u001b[0;31mNameError\u001b[0m                                 Traceback (most recent call last)",
            "\u001b[0;32m<ipython-input-87-1a259e0fccdb>\u001b[0m in \u001b[0;36m<module>\u001b[0;34m()\u001b[0m\n\u001b[1;32m     34\u001b[0m \u001b[0ma\u001b[0m \u001b[0;34m=\u001b[0m \u001b[0;36m0.7\u001b[0m\u001b[0;34m*\u001b[0m\u001b[0mconst\u001b[0m\u001b[0;34m\u001b[0m\u001b[0;34m\u001b[0m\u001b[0m\n\u001b[1;32m     35\u001b[0m \u001b[0mk\u001b[0m \u001b[0;34m=\u001b[0m \u001b[0;36m0.3333333333333333\u001b[0m\u001b[0;34m*\u001b[0m\u001b[0mconst\u001b[0m\u001b[0;34m\u001b[0m\u001b[0;34m\u001b[0m\u001b[0m\n\u001b[0;32m---> 36\u001b[0;31m \u001b[0mS\u001b[0m\u001b[0;34m,\u001b[0m \u001b[0mI\u001b[0m\u001b[0;34m,\u001b[0m \u001b[0mR\u001b[0m \u001b[0;34m=\u001b[0m \u001b[0mwave2\u001b[0m\u001b[0;34m(\u001b[0m\u001b[0ma\u001b[0m\u001b[0;34m,\u001b[0m \u001b[0mk\u001b[0m\u001b[0;34m)\u001b[0m\u001b[0;34m\u001b[0m\u001b[0;34m\u001b[0m\u001b[0m\n\u001b[0m\u001b[1;32m     37\u001b[0m \u001b[0mR0\u001b[0m \u001b[0;34m=\u001b[0m \u001b[0ma\u001b[0m\u001b[0;34m/\u001b[0m\u001b[0mk\u001b[0m\u001b[0;34m\u001b[0m\u001b[0;34m\u001b[0m\u001b[0m\n\u001b[1;32m     38\u001b[0m \u001b[0mprint\u001b[0m\u001b[0;34m(\u001b[0m\u001b[0;34m\"a = \"\u001b[0m\u001b[0;34m,\u001b[0m \u001b[0ma\u001b[0m\u001b[0;34m)\u001b[0m\u001b[0;34m\u001b[0m\u001b[0;34m\u001b[0m\u001b[0m\n",
            "\u001b[0;32m<ipython-input-87-1a259e0fccdb>\u001b[0m in \u001b[0;36mwave2\u001b[0;34m(a, k)\u001b[0m\n\u001b[1;32m      9\u001b[0m \u001b[0;34m\u001b[0m\u001b[0m\n\u001b[1;32m     10\u001b[0m   \u001b[0my2_a\u001b[0m \u001b[0;34m=\u001b[0m \u001b[0mdf_wave2\u001b[0m\u001b[0;34m[\u001b[0m\u001b[0;34m'Total Infected for 7-day Avg'\u001b[0m\u001b[0;34m]\u001b[0m\u001b[0;34m.\u001b[0m\u001b[0mto_numpy\u001b[0m\u001b[0;34m(\u001b[0m\u001b[0;34m)\u001b[0m\u001b[0;34m.\u001b[0m\u001b[0mcopy\u001b[0m\u001b[0;34m(\u001b[0m\u001b[0;34m)\u001b[0m\u001b[0;34m\u001b[0m\u001b[0;34m\u001b[0m\u001b[0m\n\u001b[0;32m---> 11\u001b[0;31m   \u001b[0my2_a\u001b[0m \u001b[0;34m/=\u001b[0m \u001b[0mN2\u001b[0m\u001b[0;34m\u001b[0m\u001b[0;34m\u001b[0m\u001b[0m\n\u001b[0m\u001b[1;32m     12\u001b[0m   \u001b[0my2_b\u001b[0m \u001b[0;34m=\u001b[0m \u001b[0mdf_wave2\u001b[0m\u001b[0;34m[\u001b[0m\u001b[0;34m'Total Infected for 28-day Avg'\u001b[0m\u001b[0;34m]\u001b[0m\u001b[0;34m.\u001b[0m\u001b[0mto_numpy\u001b[0m\u001b[0;34m(\u001b[0m\u001b[0;34m)\u001b[0m\u001b[0;34m.\u001b[0m\u001b[0mcopy\u001b[0m\u001b[0;34m(\u001b[0m\u001b[0;34m)\u001b[0m\u001b[0;34m\u001b[0m\u001b[0;34m\u001b[0m\u001b[0m\n\u001b[1;32m     13\u001b[0m   \u001b[0my2_b\u001b[0m \u001b[0;34m/=\u001b[0m \u001b[0mN2\u001b[0m\u001b[0;34m\u001b[0m\u001b[0;34m\u001b[0m\u001b[0m\n",
            "\u001b[0;31mNameError\u001b[0m: name 'N2' is not defined"
          ]
        }
      ]
    },
    {
      "cell_type": "code",
      "source": [
        "d = (1/50) * np.log(N*y2_a[50])\n",
        "test_k = 1/3\n",
        "test_a = test_k + d\n",
        "print(test_a)\n",
        "print(test_k)"
      ],
      "metadata": {
        "id": "EYTmVDJAjLz7"
      },
      "execution_count": null,
      "outputs": []
    },
    {
      "cell_type": "code",
      "source": [
        "fig1 = plt.figure(1); fig1.clf()\n",
        "#plt.plot(t, S, 'g', lw=3, label='Suseptible')\n",
        "plt.plot(t, I, 'r', lw=3, label='Infective')\n",
        "#plt.plot(t, R, 'b', lw=3, label='Removed')\n",
        "plt.plot(t, y1[0], 'y', lw=3, label='7-day Avg')\n",
        "plt.plot(t, y1[1], 'brown', lw=3, label='28-day Avg')\n",
        "plt.plot(t, y1[2], 'm', lw=3, label='Raw Data')\n",
        "\n",
        "fig1.legend()\n",
        "plt.xlabel('Time (days)')\n",
        "plt.ylabel('Population')"
      ],
      "metadata": {
        "id": "YW6qGoRIWxu2"
      },
      "execution_count": null,
      "outputs": []
    },
    {
      "cell_type": "code",
      "source": [
        "t = np.linspace(0, 10)\n",
        "x = odeint(odes,x0,t, args=(6,1.4))\n",
        "\n",
        "S = x[:,0]\n",
        "I = x[:,1]\n",
        "R = x[:,2]\n",
        "\n",
        "print(max(I))\n",
        "fig = plt.figure(1); fig.clf()\n",
        "plt.plot(t, S, 'g', lw=3, label='Suseptible')\n",
        "plt.plot(t, I, 'r', lw=3, label='Infective')\n",
        "plt.plot(t, R, 'b', lw=3, label='Removed')\n",
        "\n",
        "fig.legend()\n",
        "plt.xlabel('Time (days)')\n",
        "plt.ylabel('Population')"
      ],
      "metadata": {
        "id": "xTfIC9un5Ce_"
      },
      "execution_count": null,
      "outputs": []
    },
    {
      "cell_type": "code",
      "source": [
        "print(max(I))\n",
        "print(max(y1[0]))"
      ],
      "metadata": {
        "id": "7_kpzx-54Puq"
      },
      "execution_count": null,
      "outputs": []
    }
  ]
}